{
 "cells": [
  {
   "cell_type": "code",
   "execution_count": 1,
   "id": "622b37c4-3cdb-4a25-81b9-594cc05e716e",
   "metadata": {},
   "outputs": [
    {
     "name": "stdout",
     "output_type": "stream",
     "text": [
      "[20 30 40]\n",
      "[40 50 60]\n",
      "add [ 60  80 100]\n",
      "sub [-20 -20 -20]\n",
      "pro [ 800 1500 2400]\n"
     ]
    }
   ],
   "source": [
    "import numpy as np\n",
    "\n",
    "a=np.array([20,30,40])\n",
    "b=np.array([40,50,60])\n",
    "print(a)\n",
    "print(b)\n",
    "print(\"add\",a+b)\n",
    "print(\"sub\",a-b)\n",
    "print(\"pro\",a*b)"
   ]
  },
  {
   "cell_type": "code",
   "execution_count": 2,
   "id": "b63db000-bdea-44b1-9586-f12f319afc9f",
   "metadata": {},
   "outputs": [
    {
     "name": "stdout",
     "output_type": "stream",
     "text": [
      "[1 2 3 4]\n",
      "[5 6 7 8]\n",
      "[ 6  8 10 12]\n",
      "[-4 -4 -4 -4]\n",
      "[ 5 12 21 32]\n",
      "[0.2        0.33333333 0.42857143 0.5       ]\n"
     ]
    }
   ],
   "source": [
    "import numpy as np\n",
    "a=np.array([1,2,3,4])\n",
    "b=np.array([5,6,7,8])\n",
    "print(a)\n",
    "print(b)\n",
    "print(a+b)\n",
    "print(a-b)\n",
    "print(a*b)\n",
    "print(a/b)"
   ]
  },
  {
   "cell_type": "code",
   "execution_count": 4,
   "id": "5793b53f-c554-4ff2-9e58-4de7aa24b8c2",
   "metadata": {},
   "outputs": [
    {
     "name": "stdout",
     "output_type": "stream",
     "text": [
      "[10 20 30]\n",
      "[40 50 60]\n",
      "[70 80 90]\n",
      "[120 150 180]\n",
      "[-100 -110 -120]\n",
      "[ 28000  80000 162000]\n",
      "[0.00357143 0.005      0.00555556]\n"
     ]
    }
   ],
   "source": [
    "import numpy as np\n",
    "\n",
    "a=np.array([10,20,30])\n",
    "b=np.array([40,50,60])\n",
    "c=np.array([70,80,90])\n",
    "print(a)\n",
    "print(b)\n",
    "print(c)\n",
    "print(a+b+c)\n",
    "print(a-b-c)\n",
    "print(a*b*c)\n",
    "print(a/b/c)"
   ]
  },
  {
   "cell_type": "code",
   "execution_count": 5,
   "id": "447369b0-ac10-4a5e-bb61-164daf2417ab",
   "metadata": {},
   "outputs": [
    {
     "name": "stdout",
     "output_type": "stream",
     "text": [
      "['usman' 'umar' 'asma']\n",
      "['10' '20' '30']\n"
     ]
    }
   ],
   "source": [
    "a=np.array([\"usman\",\"umar\",\"asma\"])\n",
    "b=np.array([\"10\",\"20\",\"30\"])\n",
    "print(a)\n",
    "print(b)"
   ]
  },
  {
   "cell_type": "code",
   "execution_count": 6,
   "id": "e20b2183-c8f4-46a8-9b33-d0d5cc89f689",
   "metadata": {},
   "outputs": [
    {
     "name": "stdout",
     "output_type": "stream",
     "text": [
      "[5 6 7]\n",
      "[-3 -2 -1]\n",
      "[ 4  8 12]\n",
      "[0.25 0.5  0.75]\n"
     ]
    }
   ],
   "source": [
    "import numpy as np\n",
    "a=np.array([1,2,3])\n",
    "b=np.array([4])\n",
    "print(a+b)\n",
    "print(a-b)\n",
    "print(a*b)\n",
    "print(a/b)"
   ]
  },
  {
   "cell_type": "code",
   "execution_count": 10,
   "id": "8b901c8c-2ddd-4d34-bf76-a5537568b5a8",
   "metadata": {},
   "outputs": [
    {
     "name": "stdout",
     "output_type": "stream",
     "text": [
      "['usman' 'umar' 'asma']\n",
      "['hasan' 'zubair' 'ayesha']\n"
     ]
    }
   ],
   "source": [
    "import numpy as np\n",
    "a=np.array([\"usman\",\"umar\",\"asma\"])\n",
    "b=np.array([\"hasan\",\"zubair\",\"ayesha\"])\n",
    "print(a)\n",
    "print(b)"
   ]
  },
  {
   "cell_type": "code",
   "execution_count": 12,
   "id": "04819dae-914b-43e5-b8a3-95d231d638a4",
   "metadata": {},
   "outputs": [
    {
     "name": "stdout",
     "output_type": "stream",
     "text": [
      "[10 20 30]\n",
      "[10.5 20.5 30.5]\n",
      "[20.5 40.5 60.5]\n"
     ]
    }
   ],
   "source": [
    "import numpy as np\n",
    "a=np.array([10,20,30])\n",
    "b=np.array([10.5,20.5,30.5])\n",
    "print(a)\n",
    "print(b)\n",
    "print(a+b)"
   ]
  },
  {
   "cell_type": "code",
   "execution_count": 13,
   "id": "10063c43-d8df-476d-a27f-362419326d56",
   "metadata": {},
   "outputs": [
    {
     "name": "stdout",
     "output_type": "stream",
     "text": [
      "[[10, 20], [30, 40, 50]]\n"
     ]
    }
   ],
   "source": [
    "l=[[10,20],[30,40,50]]\n",
    "print(l)"
   ]
  },
  {
   "cell_type": "code",
   "execution_count": 14,
   "id": "0fb03200-92c9-472a-b32d-40d42af387e4",
   "metadata": {},
   "outputs": [
    {
     "name": "stdout",
     "output_type": "stream",
     "text": [
      "[[10, 20], [30, 40], [50, 60]]\n"
     ]
    }
   ],
   "source": [
    "l=[[10,20],[30,40],[50,60]]\n",
    "print(l)"
   ]
  },
  {
   "cell_type": "code",
   "execution_count": 17,
   "id": "bd6ec9fb-4dd4-492b-9f0d-a807a227bea3",
   "metadata": {},
   "outputs": [
    {
     "name": "stdout",
     "output_type": "stream",
     "text": [
      "[[10 20]\n",
      " [30 40]\n",
      " [50 60]]\n"
     ]
    }
   ],
   "source": [
    "import numpy as np\n",
    "a=np.array([[10,20],[30,40],[50,60]])\n",
    "print(a)"
   ]
  },
  {
   "cell_type": "code",
   "execution_count": 18,
   "id": "0a053da1-a003-45dc-81da-590567ba5572",
   "metadata": {},
   "outputs": [
    {
     "name": "stdout",
     "output_type": "stream",
     "text": [
      "[[1 2 3 4 5]\n",
      " [3 5 4 5 6]]\n"
     ]
    }
   ],
   "source": [
    "import numpy as np\n",
    "b=np.array([[1,2,3,4,5],[3,5,4,5,6]])\n",
    "print(b)"
   ]
  },
  {
   "cell_type": "code",
   "execution_count": 20,
   "id": "c2394a30-c31b-4e86-9865-d1a8d57630fa",
   "metadata": {},
   "outputs": [
    {
     "name": "stdout",
     "output_type": "stream",
     "text": [
      "[10 20 30]\n",
      "<class 'numpy.ndarray'>\n"
     ]
    }
   ],
   "source": [
    "import numpy as np\n",
    "arr=np.array([10,20,30])\n",
    "print(arr)\n",
    "print(type(arr))"
   ]
  },
  {
   "cell_type": "code",
   "execution_count": 21,
   "id": "dc37ed89-f9ba-43cd-8bdc-caec66a25e65",
   "metadata": {},
   "outputs": [
    {
     "name": "stdout",
     "output_type": "stream",
     "text": [
      "[10 20 30]\n",
      "<class 'numpy.ndarray'>\n"
     ]
    }
   ],
   "source": [
    "import numpy as np\n",
    "arr=np.array([10,20,30])\n",
    "print(arr)\n",
    "print(type(arr))"
   ]
  },
  {
   "cell_type": "code",
   "execution_count": 24,
   "id": "e90481c7-fb4b-4c26-a67b-92278fd6b0ca",
   "metadata": {},
   "outputs": [
    {
     "name": "stdout",
     "output_type": "stream",
     "text": [
      "[[ 10  20  30  40]\n",
      " [ 50  60  70  80]\n",
      " [ 90 100  10  20]]\n",
      "type <class 'numpy.ndarray'>\n"
     ]
    }
   ],
   "source": [
    "import numpy as np\n",
    "arr=np.array([[10,20,30,40],[50,60,70,80],[90,100,10,20]])\n",
    "print(arr)\n",
    "print(\"type\",type(arr))"
   ]
  },
  {
   "cell_type": "code",
   "execution_count": 25,
   "id": "f13682db-3f36-4598-bf8d-2286c7442ff3",
   "metadata": {},
   "outputs": [
    {
     "name": "stdout",
     "output_type": "stream",
     "text": [
      "[[ 1  2  3  4  5]\n",
      " [ 6  7  8  9 10]\n",
      " [11 12 13 14 15]\n",
      " [16 17 18 19 20]]\n",
      "<class 'numpy.ndarray'>\n"
     ]
    }
   ],
   "source": [
    "import numpy as np\n",
    "arr=np.array([[1,2,3,4,5],[6,7,8,9,10],[11,12,13,14,15],[16,17,18,19,20]])\n",
    "print(arr)\n",
    "print(type(arr))"
   ]
  },
  {
   "cell_type": "code",
   "execution_count": 59,
   "id": "7f3b3094-bf9c-4b32-a480-531e02d63571",
   "metadata": {},
   "outputs": [
    {
     "name": "stdout",
     "output_type": "stream",
     "text": [
      "[10]\n",
      "[10 20]\n",
      "[10 20 30]\n",
      "[10 20 30 40]\n",
      "[]\n",
      "[20]\n",
      "[20 30]\n",
      "[20 30 40]\n",
      "[]\n",
      "[]\n",
      "[]\n",
      "[30]\n",
      "[]\n",
      "[10 20 30 40]\n",
      "[20 30 40]\n",
      "[30 40]\n",
      "[40]\n",
      "type <class 'numpy.ndarray'>\n",
      "Shape of array (4,)\n",
      "Size of array 4\n",
      "dimension of array 1\n",
      "int32\n"
     ]
    }
   ],
   "source": [
    "#slicing\n",
    "import numpy as np\n",
    "arr=np.array([10,20,30,40])\n",
    "print(arr[0:1])\n",
    "print(arr[0:2])\n",
    "print(arr[0:3])\n",
    "print(arr[0:4])\n",
    "print(arr[1:1])\n",
    "print(arr[1:2])\n",
    "print(arr[1:3])\n",
    "print(arr[1:4])\n",
    "print(arr[2:0])\n",
    "print(arr[2:1])\n",
    "print(arr[2:2])\n",
    "print(arr[2:3])\n",
    "print(arr[3:3])\n",
    "print(arr[0:])\n",
    "print(arr[1:])\n",
    "print(arr[2:])\n",
    "print(arr[3:])\n",
    "print(\"type\",type(arr))\n",
    "print(\"Shape of array\",np.shape(arr))\n",
    "print(\"Size of array\",np.size(arr))\n",
    "print(\"dimension of array\",np.ndim(arr))\n",
    "print(arr.dtype)"
   ]
  },
  {
   "cell_type": "code",
   "execution_count": 61,
   "id": "fb7f08e8-697b-4f18-87cb-6d9442ba1c69",
   "metadata": {},
   "outputs": [
    {
     "name": "stdout",
     "output_type": "stream",
     "text": [
      "[1]\n",
      "[1 2]\n",
      "[1 2 3]\n",
      "[1 2 3 4]\n",
      "[2 3 4]\n",
      "[3 4]\n",
      "[4]\n",
      "[3]\n",
      "[1]\n",
      "[1 2]\n",
      "[1 2 3]\n",
      "[1 2 3 4]\n",
      "<class 'numpy.ndarray'>\n",
      "shape of array (4,)\n",
      "size of array 4\n",
      "dimension of array 1\n",
      "int32\n"
     ]
    }
   ],
   "source": [
    "import numpy as np\n",
    "arr=np.array([1,2,3,4])\n",
    "print(arr[0:1])\n",
    "print(arr[0:2])\n",
    "print(arr[0:3])\n",
    "print(arr[0:])\n",
    "print(arr[1:])\n",
    "print(arr[2:])\n",
    "print(arr[3:])\n",
    "print(arr[2:3])\n",
    "print(arr[:1])\n",
    "print(arr[:2])\n",
    "print(arr[:3])\n",
    "print(arr[:4])\n",
    "print(type(arr))\n",
    "print(\"shape of array\",np.shape(arr))\n",
    "print(\"size of array\",np.size(arr))\n",
    "print(\"dimension of array\",np.ndim(arr))\n",
    "print(arr.dtype)"
   ]
  },
  {
   "cell_type": "code",
   "execution_count": 75,
   "id": "dda39c1c-d17a-4180-8750-d9907f797a9e",
   "metadata": {},
   "outputs": [
    {
     "name": "stdout",
     "output_type": "stream",
     "text": [
      "[[1]]\n",
      "\n",
      "[[1 2]\n",
      " [6 7]]\n",
      "\n",
      "[[1 2 3]\n",
      " [6 7 8]]\n",
      "\n",
      "[[1 2 3 4]\n",
      " [6 7 8 9]]\n",
      "\n",
      "[[ 1  2  3  4  5]\n",
      " [ 6  7  8  9 10]]\n",
      "(2, 5)\n",
      "10\n",
      "2\n",
      "int32\n"
     ]
    }
   ],
   "source": [
    "import numpy as np\n",
    "arr=np.array([[1,2,3,4,5],[6,7,8,9,10]])\n",
    "print(arr[0:1,0:1])\n",
    "print()\n",
    "print(arr[0:2,0:2])\n",
    "print()\n",
    "print(arr[0:3,0:3])\n",
    "print()\n",
    "print(arr[0:4,0:4])\n",
    "print()\n",
    "print(arr[0:5,0:5])\n",
    "print(np.shape(arr))\n",
    "print(np.size(arr))\n",
    "print(np.ndim(arr))\n",
    "print(arr.dtype)"
   ]
  },
  {
   "cell_type": "code",
   "execution_count": 79,
   "id": "fab296ab-d229-4f6a-909d-af9681b0b2f0",
   "metadata": {},
   "outputs": [
    {
     "name": "stdout",
     "output_type": "stream",
     "text": [
      "[[10]]\n",
      "[[10 20]\n",
      " [60 70]]\n",
      "[[10 20 30]\n",
      " [60 70 80]]\n",
      "[[10 20 30 40]\n",
      " [60 70 80 90]]\n",
      "[[ 10  20  30  40  50]\n",
      " [ 60  70  80  90 100]]\n",
      "\n",
      "[[70]]\n",
      "\n",
      "[[70 80]]\n",
      "\n",
      "[[70 80 90]]\n",
      "\n",
      "[[ 70  80  90 100]]\n",
      "(2, 5)\n",
      "10\n",
      "2\n",
      "int32\n"
     ]
    }
   ],
   "source": [
    "import numpy as np\n",
    "arr=np.array([[10,20,30,40,50],[60,70,80,90,100]])\n",
    "print(arr[0:1,0:1])\n",
    "print(arr[0:2,0:2])\n",
    "print(arr[0:3,0:3])\n",
    "print(arr[0:4,0:4])\n",
    "print(arr[0:5,0:5])\n",
    "print()\n",
    "print(arr[1:2,1:2])\n",
    "print()\n",
    "print(arr[1:3,1:3])\n",
    "print()\n",
    "print(arr[1:4,1:4])\n",
    "print()\n",
    "print(arr[1:5,1:5])\n",
    "print(np.shape(arr))\n",
    "print(np.size(arr))\n",
    "print(np.ndim(arr))\n",
    "print(arr.dtype)"
   ]
  },
  {
   "cell_type": "code",
   "execution_count": 91,
   "id": "d23f2cb8-999c-4308-9c06-de4105da9e0b",
   "metadata": {},
   "outputs": [
    {
     "name": "stdout",
     "output_type": "stream",
     "text": [
      "[3]\n",
      "[3 4]\n",
      "[7]\n",
      "[7 8]\n",
      "[1 2 3 4]\n",
      "[2 3 4]\n",
      "[5 6 7 8]\n",
      "[6 7 8]\n",
      "[7 8]\n",
      "[8]\n",
      "(2, 4)\n",
      "8\n",
      "2\n",
      "int32\n"
     ]
    }
   ],
   "source": [
    "import numpy as np\n",
    "arr=np.array([[1,2,3,4],[5,6,7,8]])\n",
    "print(arr[0,2:3])\n",
    "print(arr[0,2:4])\n",
    "print(arr[1,2:3])\n",
    "print(arr[1,2:4])\n",
    "print(arr[0,0:])\n",
    "print(arr[0,1:])\n",
    "print(arr[1,0:])\n",
    "print(arr[1,1:])\n",
    "print(arr[1,2:])\n",
    "print(arr[1,3:])\n",
    "print(np.shape(arr))\n",
    "print(np.size(arr))\n",
    "print(np.ndim(arr))\n",
    "print(arr.dtype)"
   ]
  },
  {
   "cell_type": "code",
   "execution_count": 103,
   "id": "8ad09de0-281e-4f0f-a7c3-414f55d5d379",
   "metadata": {},
   "outputs": [
    {
     "name": "stdout",
     "output_type": "stream",
     "text": [
      "[[ 1  2  3  4]\n",
      " [ 5  6  7  8]\n",
      " [ 9 10 11 12]]\n",
      "\n",
      "[1 2 3 4]\n",
      "[2 3 4]\n",
      "[3 4]\n",
      "[4]\n",
      "\n",
      "[5 6 7 8]\n",
      "[6 7 8]\n",
      "[7 8]\n",
      "[8]\n",
      "\n",
      "[ 9 10 11 12]\n",
      "[10 11 12]\n",
      "[11 12]\n",
      "[12]\n",
      "\n",
      "(3, 4)\n",
      "12\n",
      "2\n",
      "int32\n"
     ]
    }
   ],
   "source": [
    "import numpy as np\n",
    "arr=np.array([[1,2,3,4],[5,6,7,8],[9,10,11,12]])\n",
    "print(np.array(arr))\n",
    "print()\n",
    "print(arr[0,0:])\n",
    "print(arr[0,1:])\n",
    "print(arr[0,2:])\n",
    "print(arr[0,3:])\n",
    "print()\n",
    "print(arr[1,0:])\n",
    "print(arr[1,1:])\n",
    "print(arr[1,2:])\n",
    "print(arr[1,3:])\n",
    "print()\n",
    "print(arr[2,0:])\n",
    "print(arr[2,1:])\n",
    "print(arr[2,2:])\n",
    "print(arr[2,3:])\n",
    "print()\n",
    "print(np.shape(arr))\n",
    "print(np.size(arr))\n",
    "print(np.ndim(arr))\n",
    "print(arr.dtype)"
   ]
  },
  {
   "cell_type": "code",
   "execution_count": 121,
   "id": "5d79f718-cebd-43f5-afa5-70c3dc2dd88f",
   "metadata": {},
   "outputs": [
    {
     "name": "stdout",
     "output_type": "stream",
     "text": [
      "[10 20 30 40 50]\n",
      "\n",
      "5\n",
      "5\n",
      "\n",
      "(5,)\n",
      "(5,)\n",
      "\n",
      "5\n",
      "5\n",
      "\n",
      "<class 'numpy.ndarray'>\n",
      "<class 'list'>\n",
      "\n",
      "int32\n",
      "[10 20 30 40 50]\n",
      "[10. 20. 30. 40. 50.]\n",
      "['10' '20' '30' '40' '50']\n",
      "\n",
      "[10 20 30 40 50]\n",
      "['10' '20' '30' '40' '50']\n",
      "[10. 20. 30. 40. 50.]\n",
      "\n",
      "['10' '20' '30' '40' '50']\n",
      "[10 20 30 40 50]\n",
      "[10. 20. 30. 40. 50.]\n"
     ]
    }
   ],
   "source": [
    "import numpy as np\n",
    "a=[10,20,30,40,50]\n",
    "arr=np.array(a)\n",
    "print(arr)\n",
    "print()\n",
    "print(len(a))\n",
    "print(len(arr))\n",
    "print()\n",
    "print(arr.shape)\n",
    "print(np.shape(arr))\n",
    "print()\n",
    "print(arr.size)\n",
    "print(np.size(arr))\n",
    "print()\n",
    "print(type(arr))\n",
    "print(type(a))\n",
    "print()\n",
    "print(arr.dtype)\n",
    "print(arr.astype(int))\n",
    "print(arr.astype(float))\n",
    "print(arr.astype(str))\n",
    "print()\n",
    "print(arr.astype(int))\n",
    "print(arr.astype(str))\n",
    "print(arr.astype(float))\n",
    "print()\n",
    "print(arr.astype(str))\n",
    "print(arr.astype(int))\n",
    "print(arr.astype(float))"
   ]
  },
  {
   "cell_type": "code",
   "execution_count": 132,
   "id": "924c3bb3-ca17-4733-8a11-aed2746d4679",
   "metadata": {},
   "outputs": [
    {
     "name": "stdout",
     "output_type": "stream",
     "text": [
      "(2, 3)\n",
      "(2, 3)\n",
      "\n",
      "6\n",
      "6\n",
      "\n",
      "2\n",
      "2\n",
      "\n",
      "<class 'numpy.ndarray'>\n",
      "int32\n",
      "2\n",
      "\n",
      "[['1' '2' '3']\n",
      " ['4' '5' '6']]\n",
      "[[1 2 3]\n",
      " [4 5 6]]\n",
      "[[1. 2. 3.]\n",
      " [4. 5. 6.]]\n"
     ]
    }
   ],
   "source": [
    "import numpy as np\n",
    "arr=np.array([[1,2,3],[4,5,6]])\n",
    "print(arr.shape)\n",
    "print(np.shape(arr))\n",
    "print()\n",
    "print(arr.size)\n",
    "print(np.size(arr))\n",
    "print()\n",
    "print(arr.ndim)\n",
    "print(np.ndim(arr))\n",
    "print()\n",
    "print(type(arr))\n",
    "print(arr.dtype)\n",
    "print(len(arr))\n",
    "print()\n",
    "print(arr.astype(str))\n",
    "print(arr.astype(int))\n",
    "print(arr.astype(float))"
   ]
  },
  {
   "cell_type": "code",
   "execution_count": 142,
   "id": "268cff4e-fd5a-4366-8cd0-58f96b4a276f",
   "metadata": {},
   "outputs": [
    {
     "name": "stdout",
     "output_type": "stream",
     "text": [
      "[[12 34 55 66]\n",
      " [34 56 34 55]]\n",
      "2\n",
      "\n",
      "(2, 4)\n",
      "(2, 4)\n",
      "\n",
      "8\n",
      "8\n",
      "\n",
      "2\n",
      "2\n",
      "\n",
      "<class 'numpy.ndarray'>\n",
      "int32\n",
      "\n",
      "[['12' '34' '55' '66']\n",
      " ['34' '56' '34' '55']]\n",
      "[[12 34 55 66]\n",
      " [34 56 34 55]]\n",
      "[[12. 34. 55. 66.]\n",
      " [34. 56. 34. 55.]]\n"
     ]
    }
   ],
   "source": [
    "import numpy as np\n",
    "arr=np.array([[12,34,55,66],[34,56,34,55]])\n",
    "print(arr)\n",
    "print(len(arr))\n",
    "print()\n",
    "print(arr.shape)\n",
    "print(np.shape(arr))\n",
    "print()\n",
    "print(arr.size)\n",
    "print(np.size(arr))\n",
    "print()\n",
    "print(arr.ndim)\n",
    "print(np.ndim(arr))\n",
    "print()\n",
    "print(type(arr))\n",
    "print(arr.dtype)\n",
    "print()\n",
    "print(arr.astype(str))\n",
    "print(arr.astype(int))\n",
    "print(arr.astype(float))"
   ]
  },
  {
   "cell_type": "code",
   "execution_count": 143,
   "id": "559284ec-4c05-4425-a9e8-8e9d52c3165d",
   "metadata": {},
   "outputs": [
    {
     "name": "stdout",
     "output_type": "stream",
     "text": [
      "[ 7  9 11 13 15]\n",
      "[ 7  9 11 13 15]\n"
     ]
    }
   ],
   "source": [
    "import numpy as np\n",
    "arr1=np.array([1,2,3,4,5])\n",
    "arr2=np.array([6,7,8,9,10])\n",
    "print(arr1+arr2)\n",
    "print(np.add(arr1,arr2))"
   ]
  },
  {
   "cell_type": "code",
   "execution_count": 3,
   "id": "59912138-c6fe-4e5b-9b7e-e0f0006da13d",
   "metadata": {},
   "outputs": [
    {
     "name": "stdout",
     "output_type": "stream",
     "text": [
      "[ 4 10 16 22 30]\n",
      "[ 3  7 11 15 21]\n"
     ]
    }
   ],
   "source": [
    "import numpy as np\n",
    "arr1=np.array([1,3,5,7,11])\n",
    "arr2=np.array([2,4,6,8,10])\n",
    "arr3=np.array([1,3,5,7,9])\n",
    "print(arr1+arr2+arr3)\n",
    "print(np.add(arr1,arr2,arr3))"
   ]
  },
  {
   "cell_type": "code",
   "execution_count": 5,
   "id": "74deee3a-62f9-4d8b-8aa0-5a83aae55ec7",
   "metadata": {},
   "outputs": [
    {
     "name": "stdout",
     "output_type": "stream",
     "text": [
      "[[ 8 10 12]\n",
      " [14 16 18]]\n",
      "[[ 8 10 12]\n",
      " [14 16 18]]\n"
     ]
    }
   ],
   "source": [
    "import numpy as np\n",
    "arr1=np.array([[1,2,3],[4,5,6]])\n",
    "arr2=np.array([[7,8,9],[10,11,12]])\n",
    "print(arr1+arr2)\n",
    "print(np.add(arr1,arr2))"
   ]
  },
  {
   "cell_type": "code",
   "execution_count": 6,
   "id": "935e3d22-3c32-4c9c-a84a-8dbe31d1d2df",
   "metadata": {},
   "outputs": [
    {
     "name": "stdout",
     "output_type": "stream",
     "text": [
      "[[ 2  4  6]\n",
      " [ 8 10 12]\n",
      " [14 16 18]]\n",
      "[[ 2  4  6]\n",
      " [ 8 10 12]\n",
      " [14 16 18]]\n"
     ]
    }
   ],
   "source": [
    "import numpy as np\n",
    "arr1=np.array([[1,2,3],[4,5,6],[7,8,9]])\n",
    "arr2=np.array([[1,2,3],[4,5,6],[7,8,9]])\n",
    "print(arr1+arr2)\n",
    "print(np.add(arr1,arr2))"
   ]
  },
  {
   "cell_type": "code",
   "execution_count": 8,
   "id": "344625d1-939a-4bae-929a-715d2d6ed19a",
   "metadata": {},
   "outputs": [
    {
     "name": "stdout",
     "output_type": "stream",
     "text": [
      "[[ 2  4  6]\n",
      " [ 8 10 12]\n",
      " [14 16 18]\n",
      " [20 22 24]]\n",
      "[[ 2  4  6]\n",
      " [ 8 10 12]\n",
      " [14 16 18]\n",
      " [20 22 24]]\n"
     ]
    }
   ],
   "source": [
    "import numpy as np\n",
    "arr1=np.array([[1,2,3],[4,5,6],[7,8,9],[10,11,12]])\n",
    "arr2=np.array([[1,2,3],[4,5,6],[7,8,9],[10,11,12]])\n",
    "print(arr1+arr2)\n",
    "print(np.add(arr1,arr2))"
   ]
  },
  {
   "cell_type": "code",
   "execution_count": 9,
   "id": "f6f3b7e0-57cc-449c-8d8c-9b38425fd973",
   "metadata": {},
   "outputs": [
    {
     "name": "stdout",
     "output_type": "stream",
     "text": [
      "[[0 0 0]\n",
      " [0 0 0]\n",
      " [0 0 0]\n",
      " [0 0 0]]\n",
      "[[0 0 0]\n",
      " [0 0 0]\n",
      " [0 0 0]\n",
      " [0 0 0]]\n"
     ]
    }
   ],
   "source": [
    "import numpy as np\n",
    "arr1=np.array([[1,2,3],[4,5,6],[7,8,9],[10,11,12]])\n",
    "arr2=np.array([[1,2,3],[4,5,6],[7,8,9],[10,11,12]])\n",
    "print(arr1-arr2)\n",
    "print(np.subtract(arr1,arr2))"
   ]
  },
  {
   "cell_type": "code",
   "execution_count": 10,
   "id": "22e0d02e-7108-4e5f-b73e-1a5c594ec354",
   "metadata": {},
   "outputs": [
    {
     "name": "stdout",
     "output_type": "stream",
     "text": [
      "[[  1   4   9]\n",
      " [ 16  25  36]\n",
      " [ 49  64  81]\n",
      " [100 121 144]]\n",
      "[[  1   4   9]\n",
      " [ 16  25  36]\n",
      " [ 49  64  81]\n",
      " [100 121 144]]\n"
     ]
    }
   ],
   "source": [
    "import numpy as np\n",
    "arr1=np.array([[1,2,3],[4,5,6],[7,8,9],[10,11,12]])\n",
    "arr2=np.array([[1,2,3],[4,5,6],[7,8,9],[10,11,12]])\n",
    "print(arr1*arr2)\n",
    "print(np.multiply(arr1,arr2))"
   ]
  },
  {
   "cell_type": "code",
   "execution_count": 11,
   "id": "c925bb27-d56f-4cd1-a8e9-853876edf745",
   "metadata": {},
   "outputs": [
    {
     "name": "stdout",
     "output_type": "stream",
     "text": [
      "[[1. 1. 1.]\n",
      " [1. 1. 1.]\n",
      " [1. 1. 1.]\n",
      " [1. 1. 1.]]\n",
      "[[1. 1. 1.]\n",
      " [1. 1. 1.]\n",
      " [1. 1. 1.]\n",
      " [1. 1. 1.]]\n"
     ]
    }
   ],
   "source": [
    "import numpy as np\n",
    "arr1=np.array([[1,2,3],[4,5,6],[7,8,9],[10,11,12]])\n",
    "arr2=np.array([[1,2,3],[4,5,6],[7,8,9],[10,11,12]])\n",
    "print(arr1/arr2)\n",
    "print(np.divide(arr1,arr2))"
   ]
  },
  {
   "cell_type": "code",
   "execution_count": 12,
   "id": "80e301d6-92a0-4b61-8ba3-11508ec20b93",
   "metadata": {},
   "outputs": [
    {
     "name": "stdout",
     "output_type": "stream",
     "text": [
      "[ 1  4  9 16]\n"
     ]
    }
   ],
   "source": [
    "import numpy as np\n",
    "arr1=np.array([1,2,3,4])\n",
    "arr2=np.array([2])\n",
    "print(np.power(arr1,arr2))"
   ]
  },
  {
   "cell_type": "code",
   "execution_count": 13,
   "id": "338b84b7-a0ca-4998-a0d8-a1b1fb362ac3",
   "metadata": {},
   "outputs": [
    {
     "name": "stdout",
     "output_type": "stream",
     "text": [
      "[   1   16  256  625 1296]\n"
     ]
    }
   ],
   "source": [
    "import numpy as np\n",
    "arr1=np.array([1,2,4,5,6])\n",
    "arr2=np.array([4])\n",
    "print(np.power(arr1,arr2))"
   ]
  },
  {
   "cell_type": "code",
   "execution_count": 14,
   "id": "c6930ca1-d37f-468d-b8a9-44c6888471bf",
   "metadata": {},
   "outputs": [
    {
     "name": "stdout",
     "output_type": "stream",
     "text": [
      "[   16   256  1296  4096 10000]\n"
     ]
    }
   ],
   "source": [
    "import numpy as np\n",
    "arr1=np.array([2,4,6,8,10])\n",
    "arr2=np.array([4])\n",
    "print(np.power(arr1,arr2))"
   ]
  },
  {
   "cell_type": "code",
   "execution_count": 15,
   "id": "8b8526ea-4323-42bc-a319-d3955c54e680",
   "metadata": {},
   "outputs": [
    {
     "name": "stdout",
     "output_type": "stream",
     "text": [
      "[1.41421356 2.         2.44948974 2.82842712 3.16227766]\n"
     ]
    }
   ],
   "source": [
    "import numpy as np\n",
    "arr1=np.array([2,4,6,8,10])\n",
    "print(np.sqrt(arr1))"
   ]
  },
  {
   "cell_type": "code",
   "execution_count": 16,
   "id": "1fd2fc30-53a5-4a0f-bb14-37fbe012eaee",
   "metadata": {},
   "outputs": [
    {
     "name": "stdout",
     "output_type": "stream",
     "text": [
      "[1. 2. 3. 4. 5.]\n"
     ]
    }
   ],
   "source": [
    "import numpy as np\n",
    "arr1=np.array([1,4,9,16,25])\n",
    "print(np.sqrt(arr1))"
   ]
  },
  {
   "cell_type": "code",
   "execution_count": 17,
   "id": "40e8e0e5-ad88-48c8-aed3-744506bf76cd",
   "metadata": {},
   "outputs": [
    {
     "name": "stdout",
     "output_type": "stream",
     "text": [
      "[ 1.  2.  3.  4.  5.  6.  7.  8.  9. 10.]\n"
     ]
    }
   ],
   "source": [
    "import numpy as np\n",
    "arr1=np.array([1,4,9,16,25,36,49,64,81,100])\n",
    "print(np.sqrt(arr1))"
   ]
  },
  {
   "cell_type": "code",
   "execution_count": 18,
   "id": "6957981c-118b-42f1-83e7-414b9d76d488",
   "metadata": {},
   "outputs": [
    {
     "name": "stdout",
     "output_type": "stream",
     "text": [
      "[10, 20, 30, 40, 10, 20, 30, 40]\n"
     ]
    }
   ],
   "source": [
    "#Concatenate\n",
    "a=[10,20,30,40]\n",
    "b=[10,20,30,40]\n",
    "print(a+b)"
   ]
  },
  {
   "cell_type": "code",
   "execution_count": 21,
   "id": "ed489867-a862-4eba-a963-e20c1b7115f7",
   "metadata": {},
   "outputs": [
    {
     "name": "stdout",
     "output_type": "stream",
     "text": [
      "[10 20 30 40 50 60 70 80]\n"
     ]
    }
   ],
   "source": [
    "arr1=np.array([10,20,30,40])\n",
    "arr2=np.array([50,60,70,80])\n",
    "print(np.concatenate([arr1,arr2]))"
   ]
  },
  {
   "cell_type": "code",
   "execution_count": 23,
   "id": "be64173a-ad14-4525-88ec-29f018b46ebf",
   "metadata": {},
   "outputs": [
    {
     "name": "stdout",
     "output_type": "stream",
     "text": [
      "[[10 20]\n",
      " [30 40]\n",
      " [50 60]\n",
      " [70 80]]\n"
     ]
    }
   ],
   "source": [
    "import numpy as np\n",
    "arr1=np.array([[10,20],[30,40]])\n",
    "arr2=np.array([[50,60],[70,80]])\n",
    "print(np.concatenate([arr1,arr2]))"
   ]
  },
  {
   "cell_type": "code",
   "execution_count": 24,
   "id": "61fe83e1-6217-4ed4-bb8a-ad4d00371fd9",
   "metadata": {},
   "outputs": [
    {
     "name": "stdout",
     "output_type": "stream",
     "text": [
      "['A' 'B' 'C' 'D' 'E' 'F' 'G' 'H']\n"
     ]
    }
   ],
   "source": [
    "arr1=np.array([\"A\",\"B\",\"C\",\"D\"])\n",
    "arr2=np.array([\"E\",\"F\",\"G\",\"H\"])\n",
    "print(np.concatenate([arr1,arr2]))"
   ]
  },
  {
   "cell_type": "code",
   "execution_count": 27,
   "id": "df151d5d-0ec8-49b8-8369-7463fb3c7047",
   "metadata": {},
   "outputs": [
    {
     "name": "stdout",
     "output_type": "stream",
     "text": [
      "['usman' 'umar' 'asma' 'ibrahim' 'samra']\n"
     ]
    }
   ],
   "source": [
    "arr1=np.array([\"usman\",\"umar\",\"asma\"])\n",
    "arr2=np.array([\"ibrahim\",\"samra\"])\n",
    "print(np.concatenate([arr1,arr2]))"
   ]
  },
  {
   "cell_type": "code",
   "execution_count": 28,
   "id": "34411a7b-4187-42a2-87b2-826e0e65bbc2",
   "metadata": {},
   "outputs": [
    {
     "name": "stdout",
     "output_type": "stream",
     "text": [
      "['usman' 'umar' 'asma' 'ibrahim' 'samra' 'amber' 'shan']\n"
     ]
    }
   ],
   "source": [
    "arr1=np.array([\"usman\",\"umar\",\"asma\"])\n",
    "arr2=np.array([\"ibrahim\",\"samra\"])\n",
    "arr3=np.array([\"amber\",\"shan\"])\n",
    "print(np.concatenate([arr1,arr2,arr3]))"
   ]
  },
  {
   "cell_type": "code",
   "execution_count": 32,
   "id": "2c2d8453-c20c-4431-b970-cab14206b49b",
   "metadata": {},
   "outputs": [
    {
     "name": "stdout",
     "output_type": "stream",
     "text": [
      "[[10 20]\n",
      " [30 40]\n",
      " [50 60]\n",
      " [70 80]]\n",
      "\n",
      "[[10 20]\n",
      " [30 40]\n",
      " [50 60]\n",
      " [70 80]]\n",
      "\n",
      "[[10 20 50 60]\n",
      " [30 40 70 80]]\n"
     ]
    }
   ],
   "source": [
    "import numpy as np\n",
    "arr1=np.array([[10,20],[30,40]])\n",
    "arr2=np.array([[50,60],[70,80]])\n",
    "print(np.concatenate([arr1,arr2]))\n",
    "print()\n",
    "print(np.concatenate([arr1,arr2], axis=0))\n",
    "print()\n",
    "print(np.concatenate([arr1,arr2], axis=1))"
   ]
  },
  {
   "cell_type": "code",
   "execution_count": 40,
   "id": "95143ee2-5ebf-4a59-b9d4-cc26bb06a749",
   "metadata": {},
   "outputs": [
    {
     "name": "stdout",
     "output_type": "stream",
     "text": [
      "[[23 45]\n",
      " [45 67]\n",
      " [56 78]\n",
      " [45 67]\n",
      " [32 54]\n",
      " [54 68]]\n",
      "\n",
      "[[23 45]\n",
      " [45 67]\n",
      " [56 78]\n",
      " [45 67]\n",
      " [32 54]\n",
      " [54 68]]\n",
      "\n",
      "[[23 45 45 67]\n",
      " [45 67 32 54]\n",
      " [56 78 54 68]]\n"
     ]
    }
   ],
   "source": [
    "import numpy as np\n",
    "arr1=np.array([[23,45],[45,67],[56,78]])\n",
    "arr2=np.array([[45,67],[32,54],[54,68]])\n",
    "print(np.concatenate([arr1,arr2]))\n",
    "print()\n",
    "print(np.concatenate([arr1,arr2], axis=0))\n",
    "print()\n",
    "print(np.concatenate([arr1,arr2], axis=1))"
   ]
  },
  {
   "cell_type": "code",
   "execution_count": 42,
   "id": "1f3bfcbc-90a0-40b2-9a6f-9d5d2613e1aa",
   "metadata": {},
   "outputs": [
    {
     "name": "stdout",
     "output_type": "stream",
     "text": [
      "[[ 1  2  3  7  8  9]\n",
      " [ 4  5  6 10 11 12]]\n",
      "\n",
      "[[ 1  2  3]\n",
      " [ 4  5  6]\n",
      " [ 7  8  9]\n",
      " [10 11 12]]\n"
     ]
    }
   ],
   "source": [
    "import numpy as np\n",
    "arr1=np.array([[1,2,3],[4,5,6]])\n",
    "arr2=np.array([[7,8,9],[10,11,12]])\n",
    "print(np.hstack([arr1,arr2]))\n",
    "print()\n",
    "print(np.vstack([arr1,arr2]))"
   ]
  },
  {
   "cell_type": "code",
   "execution_count": 43,
   "id": "69fb09c9-02a9-45f4-b971-55852530b204",
   "metadata": {},
   "outputs": [
    {
     "name": "stdout",
     "output_type": "stream",
     "text": [
      "[[ 10  20  30  70  80  90]\n",
      " [ 40  50  60 100 110 120]]\n",
      "\n",
      "[[ 10  20  30]\n",
      " [ 40  50  60]\n",
      " [ 70  80  90]\n",
      " [100 110 120]]\n"
     ]
    }
   ],
   "source": [
    "import numpy as np\n",
    "arr1=np.array([[10,20,30],[40,50,60]])\n",
    "arr2=np.array([[70,80,90],[100,110,120]])\n",
    "print(np.hstack([arr1,arr2]))\n",
    "print()\n",
    "print(np.vstack([arr1,arr2]))"
   ]
  },
  {
   "cell_type": "code",
   "execution_count": 47,
   "id": "0ad07c09-fc40-4e02-98a6-4b17f86ae2bb",
   "metadata": {},
   "outputs": [
    {
     "name": "stdout",
     "output_type": "stream",
     "text": [
      "[array([10, 20, 30]), array([40, 50, 60])]\n",
      "[array([10, 20]), array([30, 40]), array([50, 60])]\n",
      "[array([10, 20]), array([30, 40]), array([50]), array([60])]\n"
     ]
    }
   ],
   "source": [
    "#split\n",
    "import numpy as np\n",
    "arr=np.array([10,20,30,40,50,60])\n",
    "print(np.array_split(arr,2))\n",
    "print(np.array_split(arr,3))\n",
    "print(np.array_split(arr,4))"
   ]
  },
  {
   "cell_type": "code",
   "execution_count": 50,
   "id": "267d8989-187d-484c-b41d-76694becbdb3",
   "metadata": {},
   "outputs": [
    {
     "name": "stdout",
     "output_type": "stream",
     "text": [
      "[array([10, 20, 30, 40, 50]), array([ 60,  70,  80,  90, 100])]\n",
      "[array([10, 20, 30, 40]), array([50, 60, 70]), array([ 80,  90, 100])]\n",
      "[array([10, 20, 30]), array([40, 50, 60]), array([70, 80]), array([ 90, 100])]\n",
      "[array([10, 20]), array([30, 40]), array([50, 60]), array([70, 80]), array([ 90, 100])]\n"
     ]
    }
   ],
   "source": [
    "import numpy as np\n",
    "arr=np.array([10,20,30,40,50,60,70,80,90,100])\n",
    "print(np.array_split(arr,2))\n",
    "print(np.array_split(arr,3))\n",
    "print(np.array_split(arr,4))\n",
    "print(np.array_split(arr,5))"
   ]
  },
  {
   "cell_type": "code",
   "execution_count": 53,
   "id": "8fed6a0c-848e-4adf-b520-f8dd77645680",
   "metadata": {},
   "outputs": [
    {
     "name": "stdout",
     "output_type": "stream",
     "text": [
      "[10 20 30]\n",
      "\n",
      "[[40 50 60]]\n"
     ]
    }
   ],
   "source": [
    "import numpy as np\n",
    "arr=np.array([[10,20,30],[40,50,60]])\n",
    "arr1=np.array_split(arr,3)\n",
    "print(arr[0])\n",
    "print()\n",
    "print(arr1[1])"
   ]
  },
  {
   "cell_type": "code",
   "execution_count": 54,
   "id": "48919c0d-0f16-4929-a57b-1e7ec94d8a95",
   "metadata": {},
   "outputs": [
    {
     "name": "stdout",
     "output_type": "stream",
     "text": [
      "[[34 56 45 67]]\n",
      "\n",
      "[[34 78 56 79]]\n"
     ]
    }
   ],
   "source": [
    "import numpy as np\n",
    "arr=np.array([[34,56,45,67],[34,78,56,79]])\n",
    "arr1=np.array_split(arr,3)\n",
    "print(arr1[0])\n",
    "print()\n",
    "print(arr1[1])"
   ]
  },
  {
   "cell_type": "code",
   "execution_count": 55,
   "id": "581e2267-6900-4f91-862e-88662a8b4784",
   "metadata": {},
   "outputs": [
    {
     "name": "stdout",
     "output_type": "stream",
     "text": [
      "[[1 2 3 4 5]]\n",
      "\n",
      "[[ 6  7  8  9 10]]\n"
     ]
    }
   ],
   "source": [
    "import numpy as np\n",
    "arr=np.array([[1,2,3,4,5],[6,7,8,9,10]])\n",
    "arr1=np.array_split(arr,2)\n",
    "print(arr1[0])\n",
    "print()\n",
    "print(arr1[1])"
   ]
  },
  {
   "cell_type": "code",
   "execution_count": 56,
   "id": "5db648be-1554-4972-8404-0792c4a2e924",
   "metadata": {},
   "outputs": [
    {
     "name": "stdout",
     "output_type": "stream",
     "text": [
      "[[1 3 5 7 9]]\n",
      "\n",
      "[[ 2  4  6  8 10]]\n"
     ]
    }
   ],
   "source": [
    "import numpy as np\n",
    "arr=np.array([[1,3,5,7,9],[2,4,6,8,10]])\n",
    "arr1=np.array_split(arr,2)\n",
    "print(arr1[0])\n",
    "print()\n",
    "print(arr1[1])"
   ]
  },
  {
   "cell_type": "code",
   "execution_count": 1,
   "id": "51a57cb1-d836-4c93-baa6-68e2bdf54226",
   "metadata": {},
   "outputs": [
    {
     "name": "stdout",
     "output_type": "stream",
     "text": [
      "[[1 3 5 7 9]]\n",
      "[[ 2  4  6  8 10]]\n"
     ]
    }
   ],
   "source": [
    "import numpy as np\n",
    "arr=np.array([[1,3,5,7,9],[2,4,6,8,10]])\n",
    "arr1=np.array_split(arr,2)\n",
    "print(arr1[0])\n",
    "print(arr1[1])"
   ]
  },
  {
   "cell_type": "code",
   "execution_count": 9,
   "id": "d857c062-e2d2-4c67-92e8-ef0bab18dcc0",
   "metadata": {},
   "outputs": [
    {
     "name": "stdout",
     "output_type": "stream",
     "text": [
      "[[1 2 3 4]\n",
      " [5 6 7 8]]\n",
      "\n",
      "[[ 9 10 11 12]]\n",
      "\n"
     ]
    }
   ],
   "source": [
    "import numpy as np\n",
    "arr=np.array([[1,2,3,4],[5,6,7,8],[9,10,11,12]])\n",
    "arr1=np.array_split(arr,2)\n",
    "print(arr1[0])\n",
    "print()\n",
    "print(arr1[1])\n",
    "print()"
   ]
  },
  {
   "cell_type": "code",
   "execution_count": 17,
   "id": "4d3cb256-9d8e-44ab-b58a-17da3ec55662",
   "metadata": {},
   "outputs": [
    {
     "name": "stdout",
     "output_type": "stream",
     "text": [
      "[array([[1, 2, 3],\n",
      "       [4, 5, 6]]), array([[7, 8, 9]]), array([[10, 11, 12]])] [1 2 3]\n",
      "\n",
      "[array([[1, 2, 3]]), array([[4, 5, 6]]), array([[7, 8, 9]]), array([[10, 11, 12]])] [4 5 6]\n",
      "\n",
      "[array([[1, 2, 3],\n",
      "       [4, 5, 6]]), array([[ 7,  8,  9],\n",
      "       [10, 11, 12]])] [7 8 9]\n"
     ]
    }
   ],
   "source": [
    "import numpy as np\n",
    "arr=np.array([[1,2,3],[4,5,6],[7,8,9],[10,11,12]])\n",
    "print(np.array_split(arr,3),(arr[0]))\n",
    "print()\n",
    "print(np.array_split(arr,4),(arr[1]))\n",
    "print()\n",
    "print(np.array_split(arr,2),(arr[2]))"
   ]
  },
  {
   "cell_type": "code",
   "execution_count": 25,
   "id": "9e3b2062-5cf6-42b7-b325-d915169d8b87",
   "metadata": {},
   "outputs": [
    {
     "name": "stdout",
     "output_type": "stream",
     "text": [
      "[array([[ 1,  2,  3,  4,  5],\n",
      "       [ 6,  7,  8,  9, 10],\n",
      "       [11, 12, 13, 14, 15],\n",
      "       [16, 17, 18, 19, 20]])] index of array (array([1, 2, 3, 4, 5]), array([ 6,  7,  8,  9, 10]))\n",
      "\n",
      "[array([[ 1,  2,  3,  4,  5],\n",
      "       [ 6,  7,  8,  9, 10]]), array([[11, 12, 13, 14, 15],\n",
      "       [16, 17, 18, 19, 20]])] index of array [ 6  7  8  9 10]\n",
      "\n",
      "[array([[ 1,  2,  3,  4,  5],\n",
      "       [ 6,  7,  8,  9, 10]]), array([[11, 12, 13, 14, 15]]), array([[16, 17, 18, 19, 20]])] index of array [11 12 13 14 15]\n",
      "\n",
      "[array([[1, 2, 3, 4, 5]]), array([[ 6,  7,  8,  9, 10]]), array([[11, 12, 13, 14, 15]]), array([[16, 17, 18, 19, 20]])] index of array [16 17 18 19 20]\n"
     ]
    }
   ],
   "source": [
    "import numpy as np\n",
    "arr=np.array([[1,2,3,4,5],[6,7,8,9,10],[11,12,13,14,15],[16,17,18,19,20]])\n",
    "print(np.array_split(arr,1),\"index of array\",(arr[0],(arr[1])))\n",
    "print()\n",
    "print(np.array_split(arr,2),\"index of array\",(arr[1]))\n",
    "print()\n",
    "print(np.array_split(arr,3),\"index of array\",(arr[2]))\n",
    "print()\n",
    "print(np.array_split(arr,4),\"index of array\",(arr[3]))"
   ]
  },
  {
   "cell_type": "code",
   "execution_count": 35,
   "id": "14f72d27-fae6-4110-9f20-0d86eaaa4dcb",
   "metadata": {},
   "outputs": [
    {
     "name": "stdout",
     "output_type": "stream",
     "text": [
      "[array([[ 1,  2,  3],\n",
      "       [ 4,  5,  6],\n",
      "       [ 7,  8,  9],\n",
      "       [10, 11, 12]])]\n",
      "\n",
      "[array([[1, 2, 3],\n",
      "       [4, 5, 6]]), array([[ 7,  8,  9],\n",
      "       [10, 11, 12]])]\n",
      "\n",
      "[array([[1, 2, 3],\n",
      "       [4, 5, 6]]), array([[7, 8, 9]]), array([[10, 11, 12]])]\n",
      "\n",
      "[array([[1, 2, 3]]), array([[4, 5, 6]]), array([[7, 8, 9]]), array([[10, 11, 12]])]\n",
      "\n",
      "[array([[ 1,  2,  3],\n",
      "       [ 4,  5,  6],\n",
      "       [ 7,  8,  9],\n",
      "       [10, 11, 12]])] (array([[ 1,  2,  3],\n",
      "       [ 4,  5,  6],\n",
      "       [ 7,  8,  9],\n",
      "       [10, 11, 12]]), 2) (array([[ 1,  2,  3],\n",
      "       [ 4,  5,  6],\n",
      "       [ 7,  8,  9],\n",
      "       [10, 11, 12]]), 3) (array([[ 1,  2,  3],\n",
      "       [ 4,  5,  6],\n",
      "       [ 7,  8,  9],\n",
      "       [10, 11, 12]]), 4)\n"
     ]
    }
   ],
   "source": [
    "import numpy as np\n",
    "arr=np.array([[1,2,3],[4,5,6],[7,8,9],[10,11,12]])\n",
    "print(np.array_split(arr,1))\n",
    "print()\n",
    "print(np.array_split(arr,2))\n",
    "print()\n",
    "print(np.array_split(arr,3))\n",
    "print()\n",
    "print(np.array_split(arr,4))\n",
    "print()\n",
    "print(np.array_split(arr,1),(arr,2),(arr,3),(arr,4))"
   ]
  },
  {
   "cell_type": "code",
   "execution_count": 36,
   "id": "6cab303b-5077-4291-b9fd-50a360022f0f",
   "metadata": {},
   "outputs": [
    {
     "name": "stdout",
     "output_type": "stream",
     "text": [
      "[1 2 3 4 5 6]\n"
     ]
    }
   ],
   "source": [
    "import numpy as np\n",
    "arr=np.array([1,2,3,4,5])\n",
    "print(np.append(arr,[6]))"
   ]
  },
  {
   "cell_type": "code",
   "execution_count": 41,
   "id": "e942c6b1-5d98-4d17-9692-bb10f5ea6040",
   "metadata": {},
   "outputs": [
    {
     "name": "stdout",
     "output_type": "stream",
     "text": [
      "[1 2 3 4 5 8 9]\n"
     ]
    }
   ],
   "source": [
    "import numpy as np\n",
    "arr=np.array([1,2,3,4,5])\n",
    "print(np.append(arr,[8,9]))"
   ]
  },
  {
   "cell_type": "code",
   "execution_count": 42,
   "id": "3c72a0e1-0522-4039-b57a-4278c8d7e870",
   "metadata": {},
   "outputs": [
    {
     "name": "stdout",
     "output_type": "stream",
     "text": [
      "['1' '2' '3' '4' '5' 'usman' 'I']\n"
     ]
    }
   ],
   "source": [
    "import numpy as np\n",
    "arr=np.array([1,2,3,4,5])\n",
    "print(np.append(arr,[\"usman\",\"I\"]))"
   ]
  },
  {
   "cell_type": "code",
   "execution_count": 43,
   "id": "53091e3f-f439-4bf8-9131-0323c32493e6",
   "metadata": {},
   "outputs": [
    {
     "name": "stdout",
     "output_type": "stream",
     "text": [
      "[12 34 35 33 56]\n"
     ]
    }
   ],
   "source": [
    "import numpy as np\n",
    "arr=np.array([12,34,33,56])\n",
    "print(np.insert(arr,2,35))"
   ]
  },
  {
   "cell_type": "code",
   "execution_count": 45,
   "id": "c595a052-f352-4458-a4ce-05442eb76658",
   "metadata": {},
   "outputs": [
    {
     "name": "stdout",
     "output_type": "stream",
     "text": [
      "[12 34 34 55 67]\n"
     ]
    }
   ],
   "source": [
    "import numpy as np\n",
    "arr=np.array([12,34,55,67])\n",
    "print(np.insert(arr,2,34))"
   ]
  },
  {
   "cell_type": "code",
   "execution_count": 49,
   "id": "211ee2a4-9876-46a9-a81f-d890bb2b0a9f",
   "metadata": {},
   "outputs": [
    {
     "name": "stdout",
     "output_type": "stream",
     "text": [
      "[11 12 22 33 44] [11 22 33 67 44]\n"
     ]
    }
   ],
   "source": [
    "import numpy as np\n",
    "arr=np.array([11,22,33,44])\n",
    "print(np.insert(arr,1,12),np.insert(arr,3,67))"
   ]
  },
  {
   "cell_type": "code",
   "execution_count": 50,
   "id": "701af37b-92db-4fc3-921f-85aaf4e0c129",
   "metadata": {},
   "outputs": [
    {
     "name": "stdout",
     "output_type": "stream",
     "text": [
      "[12 34 32 11 12 34 56]\n"
     ]
    }
   ],
   "source": [
    "import numpy as np\n",
    "arr=np.array([12,34,32,34,56])\n",
    "print(np.insert(arr,3,[11,12]))"
   ]
  },
  {
   "cell_type": "code",
   "execution_count": 52,
   "id": "70b2897d-37d3-4aef-9e4e-598f7e4e0a95",
   "metadata": {},
   "outputs": [
    {
     "name": "stdout",
     "output_type": "stream",
     "text": [
      "[ 11  12  33  45  66  77  88 100 123]\n",
      "[11 12 33 12 21 45 66 77 88]\n"
     ]
    }
   ],
   "source": [
    "import numpy as np\n",
    "arr=np.array([11,12,33,45,66,77,88])\n",
    "print(np.append(arr,[100,123]))\n",
    "print(np.insert(arr,3,[12,21]))"
   ]
  },
  {
   "cell_type": "code",
   "execution_count": 54,
   "id": "2aa79b28-daf9-427d-bb8d-c904a86b0ffa",
   "metadata": {},
   "outputs": [
    {
     "name": "stdout",
     "output_type": "stream",
     "text": [
      "[[10 20]\n",
      " [43 45]\n",
      " [35 67]]\n",
      "\n",
      "[[10 20 35]\n",
      " [43 45 67]]\n"
     ]
    }
   ],
   "source": [
    "import numpy as np\n",
    "arr=np.array([[10,20],[43,45]])\n",
    "print(np.insert(arr,2,[35,67], axis=0))\n",
    "print()\n",
    "print(np.insert(arr,2,[35,67], axis=1))"
   ]
  },
  {
   "cell_type": "code",
   "execution_count": 68,
   "id": "6a13c552-3645-4d87-86cb-33d37ac6edec",
   "metadata": {},
   "outputs": [
    {
     "name": "stdout",
     "output_type": "stream",
     "text": [
      "[[12 34 55 67]\n",
      " [45 87 98 32]\n",
      " [56 87 56 45]]\n",
      "\n",
      "[[12 34 12 55 67]\n",
      " [45 87 34 98 32]]\n"
     ]
    }
   ],
   "source": [
    "import numpy as np\n",
    "arr=np.array([[12,34,55,67],[45,87,98,32]])\n",
    "print(np.insert(arr,2,[56,87,56,45], axis=0))\n",
    "print()\n",
    "print(np.insert(arr,2,[12,34], axis=1))"
   ]
  },
  {
   "cell_type": "code",
   "execution_count": 4,
   "id": "1cd955b2-8013-4d96-833d-f9c62ee1e001",
   "metadata": {},
   "outputs": [
    {
     "name": "stdout",
     "output_type": "stream",
     "text": [
      "[[10 20 34 30]\n",
      " [40 50 56 60]]\n"
     ]
    }
   ],
   "source": [
    "import numpy as np\n",
    "arr=np.array([[10,20,30],[40,50,60]])\n",
    "print(np.insert(arr,2,[34,56], axis=1))"
   ]
  },
  {
   "cell_type": "code",
   "execution_count": 16,
   "id": "183a058c-b0a0-4b80-826c-79cdab9614da",
   "metadata": {},
   "outputs": [
    {
     "name": "stdout",
     "output_type": "stream",
     "text": [
      "[[10 20]\n",
      " [30 40]\n",
      " [45 68]]\n",
      "\n",
      "[[10 20 45]\n",
      " [30 40 68]]\n"
     ]
    }
   ],
   "source": [
    "import numpy as np\n",
    "arr=np.array([[10,20],[30,40]])\n",
    "print(np.insert(arr,2,[45,68], axis=0))\n",
    "print()\n",
    "print(np.insert(arr,2,[45,68], axis=1))"
   ]
  },
  {
   "cell_type": "code",
   "execution_count": 19,
   "id": "ab68c270-75f8-44e8-8fc0-cc90e814a347",
   "metadata": {},
   "outputs": [
    {
     "name": "stdout",
     "output_type": "stream",
     "text": [
      "[[10 20 12 30 40]\n",
      " [50 60 14 70 80]]\n",
      "\n",
      "[[10 20 30 40 12]\n",
      " [50 60 70 80 14]]\n"
     ]
    }
   ],
   "source": [
    "import numpy as np\n",
    "arr=np.array([[10,20,30,40],[50,60,70,80]])\n",
    "print(np.insert(arr,2,[12,14], axis=1))\n",
    "print()\n",
    "print(np.insert(arr,4,[12,14], axis=1))"
   ]
  },
  {
   "cell_type": "code",
   "execution_count": 23,
   "id": "92eed400-6c7d-4ae3-9495-664c34611688",
   "metadata": {},
   "outputs": [
    {
     "name": "stdout",
     "output_type": "stream",
     "text": [
      "[[10 20]\n",
      " [15 25]\n",
      " [30 40]]\n",
      "[[10 15 20]\n",
      " [30 25 40]]\n",
      "\n",
      "[[10 20]\n",
      " [30 40]\n",
      " [15 25]]\n",
      "[[10 20 15]\n",
      " [30 40 25]]\n"
     ]
    }
   ],
   "source": [
    "import numpy as np\n",
    "arr=np.array([[10,20],[30,40]])\n",
    "print(np.insert(arr,1,[15,25], axis=0))\n",
    "print(np.insert(arr,1,[15,25], axis=1))\n",
    "print()\n",
    "print(np.insert(arr,2,[15,25], axis=0))\n",
    "print(np.insert(arr,2,[15,25], axis=1))"
   ]
  },
  {
   "cell_type": "code",
   "execution_count": 28,
   "id": "dc801b93-900b-4cb3-832b-f47173488eb1",
   "metadata": {},
   "outputs": [
    {
     "name": "stdout",
     "output_type": "stream",
     "text": [
      "[[10 20 15 30]\n",
      " [40 50 25 60]]\n"
     ]
    }
   ],
   "source": [
    "import numpy as np\n",
    "arr=np.array([[10,20,30],[40,50,60]])\n",
    "print(np.insert(arr,2,[15,25], axis=1))"
   ]
  },
  {
   "cell_type": "code",
   "execution_count": 31,
   "id": "3f0a7b05-29a6-4925-b3f1-88c123d0c55a",
   "metadata": {},
   "outputs": [
    {
     "name": "stdout",
     "output_type": "stream",
     "text": [
      "[[10 15 20 30 40]\n",
      " [50 25 60 70 80]]\n",
      "[[10 20 15 30 40]\n",
      " [50 60 25 70 80]]\n"
     ]
    }
   ],
   "source": [
    "import numpy as np\n",
    "arr=np.array([[10,20,30,40],[50,60,70,80]])\n",
    "print(np.insert(arr,1,[15,25], axis=1))\n",
    "print(np.insert(arr,2,[15,25], axis=1))"
   ]
  },
  {
   "cell_type": "code",
   "execution_count": 33,
   "id": "d3ef3b82-0aa2-4977-a98b-6ec929c16902",
   "metadata": {},
   "outputs": [
    {
     "name": "stdout",
     "output_type": "stream",
     "text": [
      "[[ 10  15  20  30  40  50]\n",
      " [ 60  25  70  80  90 100]]\n"
     ]
    }
   ],
   "source": [
    "import numpy as np\n",
    "arr=np.array([[10,20,30,40,50],[60,70,80,90,100]])\n",
    "print(np.insert(arr,1,[15,25], axis=1))"
   ]
  },
  {
   "cell_type": "code",
   "execution_count": 37,
   "id": "3274e07a-322e-47f3-9425-3e6d19827759",
   "metadata": {},
   "outputs": [
    {
     "name": "stdout",
     "output_type": "stream",
     "text": [
      "[[10 20]\n",
      " [50 50]\n",
      " [30 40]\n",
      " [50 50]]\n",
      "\n",
      "[[10 50 20 50]\n",
      " [30 50 40 50]]\n"
     ]
    }
   ],
   "source": [
    "import numpy as np\n",
    "arr=np.array([[10,20],[30,40]])\n",
    "print(np.insert(arr,[1,2],[50], axis=0))\n",
    "print()\n",
    "print(np.insert(arr,[1,2],[50], axis=1))"
   ]
  },
  {
   "cell_type": "code",
   "execution_count": 51,
   "id": "87e846f4-9599-43ce-bf17-989bcc32a37f",
   "metadata": {},
   "outputs": [
    {
     "name": "stdout",
     "output_type": "stream",
     "text": [
      "[[10 50 20 50 30 50]\n",
      " [40 50 50 50 60 50]]\n"
     ]
    }
   ],
   "source": [
    "import numpy as np\n",
    "arr=np.array([[10,20,30],[40,50,60]])\n",
    "print(np.insert(arr,[1,2,3],[50], axis=1))"
   ]
  },
  {
   "cell_type": "code",
   "execution_count": 48,
   "id": "f600fb9a-e7a5-4675-95cc-bdabdfffa08b",
   "metadata": {},
   "outputs": [
    {
     "name": "stdout",
     "output_type": "stream",
     "text": [
      "[[10 20]\n",
      " [90 90]\n",
      " [30 40]\n",
      " [90 90]\n",
      " [50 60]\n",
      " [90 90]\n",
      " [70 80]\n",
      " [90 90]]\n"
     ]
    }
   ],
   "source": [
    "import numpy as np\n",
    "arr=np.array([[10,20],[30,40],[50,60],[70,80]])\n",
    "print(np.insert(arr,[1,2,3,4],[90], axis=0))"
   ]
  },
  {
   "cell_type": "code",
   "execution_count": 49,
   "id": "28f60dad-7c2a-48a4-98eb-82d54bd5b8e2",
   "metadata": {},
   "outputs": [
    {
     "name": "stdout",
     "output_type": "stream",
     "text": [
      "[[10 20]\n",
      " [70 70]\n",
      " [30 40]\n",
      " [70 70]\n",
      " [50 60]\n",
      " [70 70]]\n"
     ]
    }
   ],
   "source": [
    "import numpy as np\n",
    "arr=np.array([[10,20],[30,40],[50,60]])\n",
    "print(np.insert(arr,[1,2,3],[70], axis=0))"
   ]
  },
  {
   "cell_type": "code",
   "execution_count": 55,
   "id": "4f058a86-30d8-4be0-8523-c6ef3efd9722",
   "metadata": {},
   "outputs": [
    {
     "name": "stdout",
     "output_type": "stream",
     "text": [
      "[20 30 40]\n",
      "[10 30 40]\n",
      "[10 20 40]\n",
      "[10 20 30]\n"
     ]
    }
   ],
   "source": [
    "import numpy as np\n",
    "arr=np.array([[10,20],[30,40]])\n",
    "print(np.delete(arr,0))\n",
    "print(np.delete(arr,1))\n",
    "print(np.delete(arr,2))\n",
    "print(np.delete(arr,3))"
   ]
  },
  {
   "cell_type": "code",
   "execution_count": 56,
   "id": "247ad3c2-f1bc-4c5d-9cd5-2327c28c0e3d",
   "metadata": {},
   "outputs": [
    {
     "name": "stdout",
     "output_type": "stream",
     "text": [
      "[20 30 40 50 60]\n",
      "[10 30 40 50 60]\n",
      "[10 20 40 50 60]\n",
      "[10 20 30 50 60]\n",
      "[10 20 30 40 60]\n",
      "[10 20 30 40 50]\n"
     ]
    }
   ],
   "source": [
    "import numpy as np\n",
    "arr=np.array([[10,20],[30,40],[50,60]])\n",
    "print(np.delete(arr,0))\n",
    "print(np.delete(arr,1))\n",
    "print(np.delete(arr,2))\n",
    "print(np.delete(arr,3))\n",
    "print(np.delete(arr,4))\n",
    "print(np.delete(arr,5))"
   ]
  },
  {
   "cell_type": "code",
   "execution_count": 59,
   "id": "27e49789-f204-4d1d-b402-68a6d8898b0d",
   "metadata": {},
   "outputs": [
    {
     "name": "stdout",
     "output_type": "stream",
     "text": [
      "[]\n"
     ]
    }
   ],
   "source": [
    "import numpy as np\n",
    "arr=np.array([10,20])\n",
    "print(np.delete(arr,[0,1]))"
   ]
  },
  {
   "cell_type": "code",
   "execution_count": 63,
   "id": "30d90fa0-fead-4d71-bc4f-f87cddcbff9e",
   "metadata": {},
   "outputs": [
    {
     "name": "stdout",
     "output_type": "stream",
     "text": [
      "[30 40]\n",
      "[40]\n",
      "[]\n"
     ]
    }
   ],
   "source": [
    "import numpy as np\n",
    "arr=np.array([[10,20],[30,40]])\n",
    "print(np.delete(arr,[0,1]))\n",
    "print(np.delete(arr,[0,1,2]))\n",
    "print(np.delete(arr,[0,1,2,3]))"
   ]
  },
  {
   "cell_type": "code",
   "execution_count": 71,
   "id": "5f03f767-513a-492e-8612-16b5580fac6d",
   "metadata": {},
   "outputs": [
    {
     "name": "stdout",
     "output_type": "stream",
     "text": [
      "[[30 40]]\n",
      "[[20]\n",
      " [40]]\n",
      "\n",
      "[[10 20]]\n",
      "[[10]\n",
      " [30]]\n"
     ]
    }
   ],
   "source": [
    "import numpy as np\n",
    "arr=np.array([[10,20],[30,40]])\n",
    "print(np.delete(arr,0, axis = 0))\n",
    "print(np.delete(arr,0, axis = 1))\n",
    "print()\n",
    "print(np.delete(arr,1, axis = 0))\n",
    "print(np.delete(arr,1, axis = 1))"
   ]
  },
  {
   "cell_type": "code",
   "execution_count": 75,
   "id": "a308f647-1dcd-4104-9aab-a5abcc248eb9",
   "metadata": {},
   "outputs": [
    {
     "name": "stdout",
     "output_type": "stream",
     "text": [
      "[[40 50 60]]\n",
      "[[20 30]\n",
      " [50 60]]\n",
      "\n",
      "[[10 20 30]]\n",
      "[[10 30]\n",
      " [40 60]]\n",
      "\n",
      "[[10 20]\n",
      " [40 50]]\n",
      "[[10 20]\n",
      " [40 50]]\n"
     ]
    }
   ],
   "source": [
    "import numpy as np\n",
    "arr=np.array([[10,20,30],[40,50,60]])\n",
    "print(np.delete(arr,0, axis=0))\n",
    "print(np.delete(arr,0, axis=1))\n",
    "print()\n",
    "print(np.delete(arr,1, axis=0))\n",
    "print(np.delete(arr,1, axis=1))\n",
    "print()\n",
    "print(np.delete(arr,2, axis=1))\n",
    "print(np.delete(arr,2, axis=1))"
   ]
  },
  {
   "cell_type": "code",
   "execution_count": 76,
   "id": "ab3a10ca-c336-4a20-927a-c85986d3aad5",
   "metadata": {},
   "outputs": [
    {
     "name": "stdout",
     "output_type": "stream",
     "text": [
      "[1 2 3 5 6 6 7]\n"
     ]
    }
   ],
   "source": [
    "#sort\n",
    "import numpy as np\n",
    "arr=np.array([3,5,6,1,2,6,7])\n",
    "print(np.sort(arr))"
   ]
  },
  {
   "cell_type": "code",
   "execution_count": 78,
   "id": "2ef1135e-0fa5-4c95-ad67-369f151227da",
   "metadata": {},
   "outputs": [
    {
     "name": "stdout",
     "output_type": "stream",
     "text": [
      "[[1 2 4 6]\n",
      " [2 3 7 9]]\n"
     ]
    }
   ],
   "source": [
    "import numpy as np\n",
    "arr=np.array([[2,4,1,6],[3,2,7,9]])\n",
    "print(np.sort(arr))"
   ]
  },
  {
   "cell_type": "code",
   "execution_count": 79,
   "id": "e72b321d-0bd9-4aa5-9f2a-430b18a3dd91",
   "metadata": {},
   "outputs": [
    {
     "name": "stdout",
     "output_type": "stream",
     "text": [
      "[[2 3 5 7]\n",
      " [2 5 6 8]\n",
      " [1 3 5 6]]\n"
     ]
    }
   ],
   "source": [
    "import numpy as np\n",
    "arr=np.array([[7,5,2,3],[5,6,8,2],[3,6,5,1]])\n",
    "print(np.sort(arr))"
   ]
  },
  {
   "cell_type": "code",
   "execution_count": 80,
   "id": "546a6bcd-55f2-48ce-8d81-0c1ad1d89bd5",
   "metadata": {},
   "outputs": [
    {
     "name": "stdout",
     "output_type": "stream",
     "text": [
      "(array([3], dtype=int64),)\n"
     ]
    }
   ],
   "source": [
    "#search\n",
    "arr=np.array([2,4,5,6,7])\n",
    "print(np.where(arr==6))"
   ]
  },
  {
   "cell_type": "code",
   "execution_count": 81,
   "id": "58ab7ddd-ffd5-4cdf-9d1e-36865bc5da49",
   "metadata": {},
   "outputs": [
    {
     "name": "stdout",
     "output_type": "stream",
     "text": [
      "(array([1], dtype=int64),)\n"
     ]
    }
   ],
   "source": [
    "import numpy as np\n",
    "arr=np.array([2,4,6,5])\n",
    "print(np.where(arr==4))"
   ]
  },
  {
   "cell_type": "code",
   "execution_count": 83,
   "id": "fa170a9d-e49c-4e54-b23e-a0fca4f56aac",
   "metadata": {},
   "outputs": [
    {
     "name": "stdout",
     "output_type": "stream",
     "text": [
      "(array([0], dtype=int64), array([3], dtype=int64)) (array([0, 0, 1], dtype=int64), array([2, 4, 3], dtype=int64))\n"
     ]
    }
   ],
   "source": [
    "import numpy as np\n",
    "arr=np.array([[3,1,4,6,4],[3,1,5,4,3]])\n",
    "print(np.where(arr==6),np.where(arr==4))"
   ]
  },
  {
   "cell_type": "code",
   "execution_count": 3,
   "id": "0dd411e1-c99b-442a-9f64-d29be38edaa8",
   "metadata": {},
   "outputs": [
    {
     "name": "stdout",
     "output_type": "stream",
     "text": [
      "(array([1], dtype=int64),)\n"
     ]
    }
   ],
   "source": [
    "import numpy as np\n",
    "arr=np.array([2,6,3,1,9])\n",
    "print(np.where(arr==[6]))"
   ]
  },
  {
   "cell_type": "code",
   "execution_count": 4,
   "id": "6a8096dd-f70a-4fe4-9eb2-e82f10db8ccc",
   "metadata": {},
   "outputs": [
    {
     "name": "stdout",
     "output_type": "stream",
     "text": [
      "(array([4], dtype=int64),)\n",
      "[1 3 5 6 7 8]\n"
     ]
    }
   ],
   "source": [
    "import numpy as np\n",
    "arr=np.array([3,1,6,5,8,7])\n",
    "print(np.where(arr==8))\n",
    "print(np.sort(arr))"
   ]
  },
  {
   "cell_type": "code",
   "execution_count": 6,
   "id": "f57cf859-1dcf-4618-9f11-50f29de4d3c3",
   "metadata": {},
   "outputs": [
    {
     "name": "stdout",
     "output_type": "stream",
     "text": [
      "(array([1], dtype=int64),)\n",
      "['asad' 'hasan' 'usman']\n"
     ]
    }
   ],
   "source": [
    "import numpy as np\n",
    "arr=np.array([\"usman\",\"asad\",\"hasan\"])\n",
    "print(np.where(arr==[\"asad\"]))\n",
    "print(np.sort(arr))"
   ]
  },
  {
   "cell_type": "code",
   "execution_count": 7,
   "id": "ad8eca7f-0020-4e5f-87d7-7e542ea22d60",
   "metadata": {},
   "outputs": [
    {
     "name": "stdout",
     "output_type": "stream",
     "text": [
      "6\n"
     ]
    }
   ],
   "source": [
    "import numpy as np\n",
    "arr=np.array([3,2,5,6,1,8,9,7])\n",
    "print(np.searchsorted(arr,9))"
   ]
  },
  {
   "cell_type": "code",
   "execution_count": 8,
   "id": "8cce4388-3c30-473b-8909-c79513474668",
   "metadata": {},
   "outputs": [
    {
     "name": "stdout",
     "output_type": "stream",
     "text": [
      "0\n"
     ]
    }
   ],
   "source": [
    "import numpy as np\n",
    "arr=np.array([\"usman\",\"umair\",\"usama\"])\n",
    "print(np.searchsorted(arr,\"umair\"))"
   ]
  },
  {
   "cell_type": "code",
   "execution_count": 13,
   "id": "e8c11ef1-315a-4172-bd25-335c7df7af92",
   "metadata": {},
   "outputs": [
    {
     "name": "stdout",
     "output_type": "stream",
     "text": [
      "[1 2 3 4 5 6]\n",
      "(array([5], dtype=int64),)\n",
      "1\n"
     ]
    }
   ],
   "source": [
    "import numpy as np\n",
    "arr=np.array([1,4,3,6,5,2])\n",
    "print(np.sort(arr))\n",
    "print(np.where(arr==2))\n",
    "print(np.searchsorted(arr,2))"
   ]
  },
  {
   "cell_type": "code",
   "execution_count": 14,
   "id": "1bb62bec-a0de-4265-9279-3442f8bcc2c3",
   "metadata": {},
   "outputs": [
    {
     "name": "stdout",
     "output_type": "stream",
     "text": [
      "3\n"
     ]
    }
   ],
   "source": [
    "import numpy as np\n",
    "arr=np.array([2,1,3,5,4,7,6])\n",
    "print(np.searchsorted(arr,4))"
   ]
  },
  {
   "cell_type": "code",
   "execution_count": 15,
   "id": "1532d270-7666-4073-9123-ed37c47db0cd",
   "metadata": {},
   "outputs": [
    {
     "name": "stdout",
     "output_type": "stream",
     "text": [
      "1\n"
     ]
    }
   ],
   "source": [
    "import numpy as np\n",
    "arr=np.array([1,2,3,2,4,5])\n",
    "print(np.searchsorted(arr,2))"
   ]
  },
  {
   "cell_type": "code",
   "execution_count": 22,
   "id": "7068a6ed-0619-40b7-af62-8325168cf2ce",
   "metadata": {},
   "outputs": [
    {
     "name": "stdout",
     "output_type": "stream",
     "text": [
      "even no [2 4 6]\n"
     ]
    }
   ],
   "source": [
    "#filter\n",
    "import numpy as np\n",
    "arr=np.array([1,2,3,4,5,6])\n",
    "fil=[False,True,False,True,False,True]\n",
    "new=arr[fil]\n",
    "print(\"even no\",new)"
   ]
  },
  {
   "cell_type": "code",
   "execution_count": 21,
   "id": "c0cd893d-2051-4598-919c-9099277f4960",
   "metadata": {},
   "outputs": [
    {
     "name": "stdout",
     "output_type": "stream",
     "text": [
      "odd no [1 3 5]\n"
     ]
    }
   ],
   "source": [
    "import numpy as np\n",
    "arr=np.array([1,2,3,4,5,6])\n",
    "fil=[True,False,True,False,True,False]\n",
    "new=arr[fil]\n",
    "print(\"odd no\",new)"
   ]
  },
  {
   "cell_type": "code",
   "execution_count": 20,
   "id": "8d91ee04-973d-4f33-a83b-a54427cdbd4a",
   "metadata": {},
   "outputs": [
    {
     "name": "stdout",
     "output_type": "stream",
     "text": [
      "['usman' 'zain']\n"
     ]
    }
   ],
   "source": [
    "import numpy as np\n",
    "arr=np.array([\"usman\",\"asad\",\"zain\",\"kashan\"])\n",
    "fil=[True,False,True,False]\n",
    "new=arr[fil]\n",
    "print(new)"
   ]
  },
  {
   "cell_type": "code",
   "execution_count": 23,
   "id": "2f69cbf2-07de-4527-876f-c932fdf162b5",
   "metadata": {},
   "outputs": [
    {
     "name": "stdout",
     "output_type": "stream",
     "text": [
      "[False False  True  True  True]\n"
     ]
    }
   ],
   "source": [
    "import numpy as np\n",
    "arr=np.array([12,34,54,67,87])\n",
    "fa=arr>50\n",
    "print(fa)"
   ]
  },
  {
   "cell_type": "code",
   "execution_count": 24,
   "id": "20e4df1f-2ca4-448b-b84d-5ee7ee1a75a8",
   "metadata": {},
   "outputs": [
    {
     "name": "stdout",
     "output_type": "stream",
     "text": [
      "[False False False False False  True  True]\n"
     ]
    }
   ],
   "source": [
    "import numpy as np\n",
    "arr=np.array([10,20,30,40,50,67,88])\n",
    "fil=arr>50\n",
    "print(fil)"
   ]
  },
  {
   "cell_type": "code",
   "execution_count": 26,
   "id": "4c08320b-e98e-49df-9ec3-c42208e75c1a",
   "metadata": {},
   "outputs": [
    {
     "name": "stdout",
     "output_type": "stream",
     "text": [
      "[ True  True  True  True False False]\n",
      "[False False False False False  True]\n"
     ]
    }
   ],
   "source": [
    "import numpy as np\n",
    "arr=np.array([10,20,30,40,50,60])\n",
    "fil=arr<50\n",
    "fil1=arr>50\n",
    "print(fil)\n",
    "print(fil1)"
   ]
  },
  {
   "cell_type": "code",
   "execution_count": 30,
   "id": "39584ca8-de6d-445e-82be-d348f71ee98d",
   "metadata": {},
   "outputs": [
    {
     "name": "stdout",
     "output_type": "stream",
     "text": [
      "[False False False  True  True  True  True  True]\n",
      "[ True  True  True  True  True  True False False]\n"
     ]
    }
   ],
   "source": [
    "import numpy as np\n",
    "arr=np.array([10,20,30,40,50,60,70,80])\n",
    "fil=arr>30\n",
    "fil1=arr<70\n",
    "print(fil)\n",
    "print(fil1)"
   ]
  },
  {
   "cell_type": "code",
   "execution_count": 31,
   "id": "5740e2dc-7ef3-4e55-8501-9eca52e1a6e6",
   "metadata": {},
   "outputs": [
    {
     "name": "stdout",
     "output_type": "stream",
     "text": [
      "[45 67]\n"
     ]
    }
   ],
   "source": [
    "import numpy as np\n",
    "arr=np.array([10,12,33,45,67])\n",
    "fil=arr>33\n",
    "new_array=arr[fil]\n",
    "print(new_array)"
   ]
  },
  {
   "cell_type": "code",
   "execution_count": 32,
   "id": "db03b87a-b01e-40b7-bb80-c6dce2011169",
   "metadata": {},
   "outputs": [
    {
     "name": "stdout",
     "output_type": "stream",
     "text": [
      "[67 98 87 56]\n"
     ]
    }
   ],
   "source": [
    "import numpy as np\n",
    "arr=np.array([10,9,34,23,67,98,87,56])\n",
    "fil=arr>50\n",
    "new_array=arr[fil]\n",
    "print(new_array)"
   ]
  },
  {
   "cell_type": "code",
   "execution_count": 34,
   "id": "0b537504-c7ae-4b1a-bc0a-21e5694d4bed",
   "metadata": {},
   "outputs": [
    {
     "name": "stdout",
     "output_type": "stream",
     "text": [
      "[10  9 23]\n"
     ]
    }
   ],
   "source": [
    "import numpy as np\n",
    "arr=np.array([10,9,96,23,67,98,87,56])\n",
    "fil=arr<50\n",
    "new_array=arr[fil]\n",
    "print(new_array)"
   ]
  },
  {
   "cell_type": "code",
   "execution_count": 37,
   "id": "65bc893d-55d6-415d-977f-faf0843f4612",
   "metadata": {},
   "outputs": [
    {
     "name": "stdout",
     "output_type": "stream",
     "text": [
      "[12  2 44 56]\n"
     ]
    }
   ],
   "source": [
    "import numpy as np\n",
    "arr=np.array([12,13,1,2,44,56,67,89])\n",
    "fil=arr % 2==0\n",
    "new_array=arr[fil]\n",
    "print(new_array)"
   ]
  },
  {
   "cell_type": "code",
   "execution_count": 39,
   "id": "6e39d218-a051-4296-8a77-d2bf916a39b7",
   "metadata": {},
   "outputs": [
    {
     "name": "stdout",
     "output_type": "stream",
     "text": [
      "[13 45 77]\n"
     ]
    }
   ],
   "source": [
    "import numpy as np\n",
    "arr=np.array([12,13,44,45,66,78,77])\n",
    "fil=arr % 2!=0\n",
    "new_array=arr[fil]\n",
    "print(new_array)"
   ]
  },
  {
   "cell_type": "code",
   "execution_count": 40,
   "id": "25ff2976-3318-4046-8b37-0e115df0cf20",
   "metadata": {},
   "outputs": [
    {
     "name": "stdout",
     "output_type": "stream",
     "text": [
      "[11 43 11 55 67]\n"
     ]
    }
   ],
   "source": [
    "import numpy as np\n",
    "arr=np.array([11,12,43,56,11,55,67,88])\n",
    "fil=arr % 2==1\n",
    "new_array=arr[fil]\n",
    "print(new_array)"
   ]
  },
  {
   "cell_type": "code",
   "execution_count": 41,
   "id": "04edf3bc-e55e-4a62-8d58-36c93b05ace9",
   "metadata": {},
   "outputs": [
    {
     "name": "stdout",
     "output_type": "stream",
     "text": [
      "[12 56 88]\n"
     ]
    }
   ],
   "source": [
    "import numpy as np\n",
    "arr=np.array([11,12,43,56,11,55,67,88])\n",
    "fil=arr % 2!=1\n",
    "new_array=arr[fil]\n",
    "print(new_array)"
   ]
  },
  {
   "cell_type": "code",
   "execution_count": 11,
   "id": "473a732e-c68d-4890-836b-4dde561467dc",
   "metadata": {},
   "outputs": [
    {
     "name": "stdout",
     "output_type": "stream",
     "text": [
      "sum 260\n",
      "diff [10 10 10 10  0 10]\n",
      "max 60\n",
      "min 10\n",
      "count 7\n",
      "mean 37.142857142857146\n",
      "median 40.0\n",
      "cumilative sum [ 10  30  60 100 150 200 260]\n",
      "cumilative product [        10        200       6000     240000   12000000  600000000\n",
      " 1640261632]\n"
     ]
    }
   ],
   "source": [
    "#Aggregative functions\n",
    "import numpy as np\n",
    "arr=np.array([10,20,30,40,50,50,60])\n",
    "print(\"sum\",np.sum(arr))\n",
    "print(\"diff\",np.diff(arr))\n",
    "print(\"max\",np.max(arr))\n",
    "print(\"min\",np.min(arr))\n",
    "print(\"count\",np.size(arr))\n",
    "print(\"mean\",np.mean(arr))\n",
    "print(\"median\",np.median(arr))\n",
    "print(\"cumilative sum\",np.cumsum(arr))\n",
    "print(\"cumilative product\",np.cumprod(arr))"
   ]
  },
  {
   "cell_type": "code",
   "execution_count": 22,
   "id": "1e3ebad5-45e6-40a5-b078-76063c3d7761",
   "metadata": {},
   "outputs": [
    {
     "name": "stdout",
     "output_type": "stream",
     "text": [
      "sum 57\n",
      "diff [ 1  1  1  1  1  1  1  1  1 -8]\n",
      "product 7257600\n",
      "mean 5.181818181818182\n",
      "median 5.0\n",
      "mode 2\n",
      "varience 8.512396694214877\n",
      "standard deviation 2.9176011883420387\n",
      "cumilative sum [ 1  3  6 10 15 21 28 36 45 55 57]\n",
      "cumilative product [      1       2       6      24     120     720    5040   40320  362880\n",
      " 3628800 7257600]\n"
     ]
    }
   ],
   "source": [
    "import numpy as np\n",
    "import statistics as stats\n",
    "arr=np.array([1,2,3,4,5,6,7,8,9,10,2])\n",
    "print(\"sum\",np.sum(arr))\n",
    "print(\"diff\",np.diff(arr))\n",
    "print(\"product\",np.prod(arr))\n",
    "print(\"mean\",np.mean(arr))\n",
    "print(\"median\",np.median(arr))\n",
    "print(\"mode\",stats.mode(arr))\n",
    "print(\"varience\",np.var(arr))\n",
    "print(\"standard deviation\",np.std(arr))\n",
    "print(\"cumilative sum\",np.cumsum(arr))\n",
    "print(\"cumilative product\",np.cumprod(arr))"
   ]
  },
  {
   "cell_type": "code",
   "execution_count": 33,
   "id": "a4e8fad8-0b48-4eb9-ac30-cdf8a55136f4",
   "metadata": {},
   "outputs": [
    {
     "name": "stdout",
     "output_type": "stream",
     "text": [
      "total price 1000\n",
      "total quantity 200\n",
      "price : [100 150 200 250 300] \n",
      " quantity : [20 30 40 50 60]\n",
      "\n",
      "[[  100   150   200   250   300]\n",
      " [ 2000  4500  8000 12500 18000]]\n",
      "\n",
      "45000\n"
     ]
    }
   ],
   "source": [
    "arr=np.array([100,150,200,250,300])\n",
    "arr1=np.array([20,30,40,50,60])\n",
    "\n",
    "price=np.array(arr)\n",
    "quantity=np.array(arr1)\n",
    "\n",
    "print(\"total price\",np.sum(price))\n",
    "print(\"total quantity\",np.sum(quantity))\n",
    "\n",
    "print(\"price :\",price,\"\\n\",\"quantity :\",quantity)\n",
    "print()\n",
    "print(np.cumprod([price,quantity], axis=0))\n",
    "print()\n",
    "c=np.cumprod([price,quantity], axis=0)\n",
    "print(c[1].sum())"
   ]
  },
  {
   "cell_type": "code",
   "execution_count": 43,
   "id": "aeeb51bb-e380-4a11-ad4b-d0ef59c9120d",
   "metadata": {},
   "outputs": [
    {
     "name": "stdout",
     "output_type": "stream",
     "text": [
      "total price 46000\n",
      "total quantity 200\n",
      "price [ 1000  2000  3000 40000] \n",
      " quantity [20 40 60 80]\n",
      "\n",
      "[[   1000    2000    3000   40000]\n",
      " [  20000   80000  180000 3200000]]\n",
      "46000\n",
      "3480000\n"
     ]
    }
   ],
   "source": [
    "arr=np.array([1000,2000,3000,40000])\n",
    "arr1=np.array([20,40,60,80])\n",
    "\n",
    "price=np.array(arr)\n",
    "quantity=np.array(arr1)\n",
    "\n",
    "print(\"total price\",np.sum(price))\n",
    "print(\"total quantity\",np.sum(quantity))\n",
    "\n",
    "print(\"price\",price,\"\\n\",\"quantity\",quantity)\n",
    "print()\n",
    "print(np.cumprod([price,quantity], axis=0))\n",
    "c=np.cumprod([price,quantity], axis=0)\n",
    "print(c[0].sum())\n",
    "print(c[1].sum())"
   ]
  },
  {
   "cell_type": "code",
   "execution_count": 52,
   "id": "275843fa-8085-4dba-8881-a18d394028b9",
   "metadata": {},
   "outputs": [
    {
     "name": "stdout",
     "output_type": "stream",
     "text": [
      "price [100 200 300 400 500] \n",
      " quantity [10 20 30 40 50]\n",
      "\n",
      "[[  100   200   300   400   500]\n",
      " [ 1000  4000  9000 16000 25000]]\n",
      "46000\n",
      "3480000\n"
     ]
    }
   ],
   "source": [
    "arr=np.array([100,200,300,400,500])\n",
    "arr1=np.array([10,20,30,40,50])\n",
    "\n",
    "price=np.array(arr)\n",
    "quantity=np.array(arr1)\n",
    "\n",
    "print(\"price\",price, \"\\n\", \"quantity\",quantity)\n",
    "print()\n",
    "print(np.cumprod([price,quantity], axis=0))\n",
    "a=np.cumprod([price,quantity], axis=0)\n",
    "print(c[0].sum())\n",
    "print(c[1].sum())"
   ]
  },
  {
   "cell_type": "code",
   "execution_count": 53,
   "id": "1731ee27-f4ac-4f05-b0e5-9596b06794cb",
   "metadata": {},
   "outputs": [
    {
     "name": "stdout",
     "output_type": "stream",
     "text": [
      "[[1. 1.]\n",
      " [1. 1.]]\n"
     ]
    }
   ],
   "source": [
    "a=[10,20,30,40,50]\n",
    "b=[5,10,15,20,25]\n",
    "print(np.corrcoef([a,b]))"
   ]
  },
  {
   "cell_type": "code",
   "execution_count": 54,
   "id": "d53be788-e62a-4fd5-b1e8-b157a1ee72b2",
   "metadata": {},
   "outputs": [
    {
     "name": "stdout",
     "output_type": "stream",
     "text": [
      "[[1.         0.86171567 0.75025392]\n",
      " [0.86171567 1.         0.78457825]\n",
      " [0.75025392 0.78457825 1.        ]]\n"
     ]
    }
   ],
   "source": [
    "a=[20,23,45,67,98]\n",
    "b=[45,66,78,87,90]\n",
    "c=[21,65,34,76,87]\n",
    "print(np.corrcoef([a,b,c]))"
   ]
  },
  {
   "cell_type": "code",
   "execution_count": 55,
   "id": "a091bd52-b86d-4f2e-ad95-8415bc611556",
   "metadata": {},
   "outputs": [
    {
     "name": "stdout",
     "output_type": "stream",
     "text": [
      "[[1. 1. 1.]\n",
      " [1. 1. 1.]\n",
      " [1. 1. 1.]]\n"
     ]
    }
   ],
   "source": [
    "a=[1,2,3,4,5]\n",
    "b=[6,7,8,9,10]\n",
    "c=[11,12,13,14,15]\n",
    "print(np.corrcoef([a,b,c]))"
   ]
  },
  {
   "cell_type": "code",
   "execution_count": 59,
   "id": "7ceb3cb4-27d4-48a8-922f-6663d2279de4",
   "metadata": {},
   "outputs": [
    {
     "name": "stdout",
     "output_type": "stream",
     "text": [
      "[[ 100  200  300  400]\n",
      " [ 500 2000 4500 8000]]\n",
      "1000\n",
      "15000\n"
     ]
    }
   ],
   "source": [
    "price=[100,200,300,400]\n",
    "quantity=[5,10,15,20]\n",
    "\n",
    "print(np.cumprod([price,quantity], axis=0))\n",
    "a=np.cumprod([price,quantity], axis=0)\n",
    "print(a[0].sum())\n",
    "print(a[1].sum())"
   ]
  },
  {
   "cell_type": "code",
   "execution_count": null,
   "id": "e73489b4-6daf-4008-a1b9-ab037900689a",
   "metadata": {},
   "outputs": [],
   "source": []
  }
 ],
 "metadata": {
  "kernelspec": {
   "display_name": "Python 3 (ipykernel)",
   "language": "python",
   "name": "python3"
  },
  "language_info": {
   "codemirror_mode": {
    "name": "ipython",
    "version": 3
   },
   "file_extension": ".py",
   "mimetype": "text/x-python",
   "name": "python",
   "nbconvert_exporter": "python",
   "pygments_lexer": "ipython3",
   "version": "3.11.7"
  }
 },
 "nbformat": 4,
 "nbformat_minor": 5
}
