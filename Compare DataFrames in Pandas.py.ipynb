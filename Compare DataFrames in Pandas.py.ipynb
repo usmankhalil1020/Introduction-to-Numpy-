{
 "cells": [
  {
   "cell_type": "code",
   "execution_count": 2,
   "id": "2486c1e8-f3e3-434f-8104-9991fae36eea",
   "metadata": {},
   "outputs": [
    {
     "name": "stdout",
     "output_type": "stream",
     "text": [
      "   Fruits  Price  Quantity\n",
      "0   Mango    100        13\n",
      "1   Apple    500        15\n",
      "2  Banana     56        10\n",
      "3  Papaya     67        34\n",
      "4  Orange    150        36\n"
     ]
    }
   ],
   "source": [
    "import pandas as pd\n",
    "\n",
    "dict={\"Fruits\":[\"Mango\",\"Apple\",\"Banana\",\"Papaya\",\"Orange\"],\n",
    "      \"Price\":[100,500,56,67,150],\n",
    "      \"Quantity\":[13,15,10,34,36]}\n",
    "\n",
    "df1=pd.DataFrame(dict)\n",
    "print(df1)"
   ]
  },
  {
   "cell_type": "code",
   "execution_count": 3,
   "id": "5bd48edb-fd71-4d6b-b092-7a015dfcfb90",
   "metadata": {},
   "outputs": [
    {
     "name": "stdout",
     "output_type": "stream",
     "text": [
      "   Fruits  Price  Quantity\n",
      "0   Mango    100        13\n",
      "1   Apple    500        15\n",
      "2  Banana     56        10\n",
      "3  Papaya     67        34\n",
      "4  Orange    150        36\n"
     ]
    }
   ],
   "source": [
    "df2=df1.copy()\n",
    "print(df2)"
   ]
  },
  {
   "cell_type": "code",
   "execution_count": 6,
   "id": "5c7be0fd-55e0-49ef-aab7-f5b416968e9c",
   "metadata": {},
   "outputs": [
    {
     "name": "stdout",
     "output_type": "stream",
     "text": [
      "   Fruits  Price  Quantity\n",
      "0   Mango    150        45\n",
      "1   Apple    300        65\n",
      "2  Banana     70        40\n",
      "3  Papaya    169        29\n",
      "4  Orange    150        36\n"
     ]
    }
   ],
   "source": [
    "df2.loc[0,\"Price\"]=150\n",
    "df2.loc[1,\"Price\"]=300\n",
    "df2.loc[2,\"Price\"]=70\n",
    "df2.loc[3,\"Price\"]=169\n",
    "df2.loc[0,\"Quantity\"]=45\n",
    "df2.loc[1,\"Quantity\"]=65\n",
    "df2.loc[2,\"Quantity\"]=40\n",
    "df2.loc[3,\"Quantity\"]=29\n",
    "print(df2)"
   ]
  },
  {
   "cell_type": "code",
   "execution_count": 7,
   "id": "41024c0e-a68c-4f54-a2f0-733efcb8191b",
   "metadata": {},
   "outputs": [
    {
     "name": "stdout",
     "output_type": "stream",
     "text": [
      "   Price        Quantity      \n",
      "    self  other     self other\n",
      "0  100.0  150.0     13.0  45.0\n",
      "1  500.0  300.0     15.0  65.0\n",
      "2   56.0   70.0     10.0  40.0\n",
      "3   67.0  169.0     34.0  29.0\n"
     ]
    }
   ],
   "source": [
    "print(df1.compare(df2))"
   ]
  },
  {
   "cell_type": "code",
   "execution_count": 8,
   "id": "d7cb2b46-b9ba-48e0-82dc-2cfeae366459",
   "metadata": {},
   "outputs": [
    {
     "name": "stdout",
     "output_type": "stream",
     "text": [
      "         Price  Quantity\n",
      "0 self   100.0      13.0\n",
      "  other  150.0      45.0\n",
      "1 self   500.0      15.0\n",
      "  other  300.0      65.0\n",
      "2 self    56.0      10.0\n",
      "  other   70.0      40.0\n",
      "3 self    67.0      34.0\n",
      "  other  169.0      29.0\n"
     ]
    }
   ],
   "source": [
    "print(df1.compare(df2,align_axis=0))"
   ]
  },
  {
   "cell_type": "code",
   "execution_count": 12,
   "id": "7a9531fb-1021-4bb0-9b37-09e245c9afa0",
   "metadata": {},
   "outputs": [
    {
     "name": "stdout",
     "output_type": "stream",
     "text": [
      "   Fruits  Price  Quantity\n",
      "0   Mango    100        13\n",
      "1   Apple    500        15\n",
      "2  Banana     56        10\n",
      "3  Papaya     67        34\n",
      "4  Orange    150        36\n",
      "   Fruits  Price  Quantity\n",
      "0   Mango    150        45\n",
      "1   Apple    300        65\n",
      "2  Banana     70        40\n",
      "3  Papaya    169        29\n",
      "4  Orange    150        36\n",
      "   Price        Quantity      \n",
      "    self  other     self other\n",
      "0  100.0  150.0     13.0  45.0\n",
      "1  500.0  300.0     15.0  65.0\n",
      "2   56.0   70.0     10.0  40.0\n",
      "3   67.0  169.0     34.0  29.0\n",
      "  Price       Quantity      \n",
      "   self other     self other\n",
      "0   100   150       13    45\n",
      "1   500   300       15    65\n",
      "2    56    70       10    40\n",
      "3    67   169       34    29\n"
     ]
    }
   ],
   "source": [
    "print(df1)\n",
    "print(df2)\n",
    "print(df1.compare(df2))\n",
    "print(df1.compare(df2,keep_equal=True))"
   ]
  },
  {
   "cell_type": "code",
   "execution_count": 13,
   "id": "ecd75d7e-32d2-40fe-a8aa-759528ef7035",
   "metadata": {},
   "outputs": [
    {
     "name": "stdout",
     "output_type": "stream",
     "text": [
      "  Fruits        Price        Quantity      \n",
      "    self other   self  other     self other\n",
      "0    NaN   NaN  100.0  150.0     13.0  45.0\n",
      "1    NaN   NaN  500.0  300.0     15.0  65.0\n",
      "2    NaN   NaN   56.0   70.0     10.0  40.0\n",
      "3    NaN   NaN   67.0  169.0     34.0  29.0\n",
      "4    NaN   NaN    NaN    NaN      NaN   NaN\n"
     ]
    }
   ],
   "source": [
    "print(df1.compare(df2,keep_shape=True))"
   ]
  },
  {
   "cell_type": "code",
   "execution_count": 14,
   "id": "11c65336-4759-449b-9998-499ef82ff6d3",
   "metadata": {},
   "outputs": [
    {
     "name": "stdout",
     "output_type": "stream",
     "text": [
      "   Fruits  Price  Quantity\n",
      "0   Mango    100        13\n",
      "1   Apple    500        15\n",
      "2  Banana     56        10\n",
      "3  Papaya     67        34\n",
      "4  Orange    150        36\n",
      "   Fruits  Price  Quantity\n",
      "0   Mango    150        45\n",
      "1   Apple    300        65\n",
      "2  Banana     70        40\n",
      "3  Papaya    169        29\n",
      "4  Orange    150        36\n",
      "   Price        Quantity      \n",
      "    self  other     self other\n",
      "0  100.0  150.0     13.0  45.0\n",
      "1  500.0  300.0     15.0  65.0\n",
      "2   56.0   70.0     10.0  40.0\n",
      "3   67.0  169.0     34.0  29.0\n",
      "   Price        Quantity      \n",
      "    self  other     self other\n",
      "0  100.0  150.0     13.0  45.0\n",
      "1  500.0  300.0     15.0  65.0\n",
      "2   56.0   70.0     10.0  40.0\n",
      "3   67.0  169.0     34.0  29.0\n"
     ]
    }
   ],
   "source": [
    "print(df1)\n",
    "print(df2)\n",
    "print(df1.compare(df2))\n",
    "print(df1.compare(df2,keep_shape=False))"
   ]
  },
  {
   "cell_type": "code",
   "execution_count": 15,
   "id": "554d0e28-bc29-4edd-b4b2-e430dfa0bd0d",
   "metadata": {},
   "outputs": [
    {
     "name": "stdout",
     "output_type": "stream",
     "text": [
      "   Fruits  Price  Quantity\n",
      "0   Mango    100        13\n",
      "1   Apple    500        15\n",
      "2  Banana     56        10\n",
      "3  Papaya     67        34\n",
      "4  Orange    150        36\n",
      "   Fruits  Price  Quantity\n",
      "0   Mango    150        45\n",
      "1   Apple    300        65\n",
      "2  Banana     70        40\n",
      "3  Papaya    169        29\n",
      "4  Orange    150        36\n",
      "   Price        Quantity      \n",
      "    self  other     self other\n",
      "0  100.0  150.0     13.0  45.0\n",
      "1  500.0  300.0     15.0  65.0\n",
      "2   56.0   70.0     10.0  40.0\n",
      "3   67.0  169.0     34.0  29.0\n",
      "  Fruits        Price        Quantity      \n",
      "    self other   self  other     self other\n",
      "0    NaN   NaN  100.0  150.0     13.0  45.0\n",
      "1    NaN   NaN  500.0  300.0     15.0  65.0\n",
      "2    NaN   NaN   56.0   70.0     10.0  40.0\n",
      "3    NaN   NaN   67.0  169.0     34.0  29.0\n",
      "4    NaN   NaN    NaN    NaN      NaN   NaN\n"
     ]
    }
   ],
   "source": [
    "print(df1)\n",
    "print(df2)\n",
    "print(df1.compare(df2))\n",
    "print(df1.compare(df2,keep_shape=True))"
   ]
  },
  {
   "cell_type": "code",
   "execution_count": null,
   "id": "470d18ec-2031-4840-917f-4316e9dcb46e",
   "metadata": {},
   "outputs": [],
   "source": []
  }
 ],
 "metadata": {
  "kernelspec": {
   "display_name": "Python 3 (ipykernel)",
   "language": "python",
   "name": "python3"
  },
  "language_info": {
   "codemirror_mode": {
    "name": "ipython",
    "version": 3
   },
   "file_extension": ".py",
   "mimetype": "text/x-python",
   "name": "python",
   "nbconvert_exporter": "python",
   "pygments_lexer": "ipython3",
   "version": "3.11.7"
  }
 },
 "nbformat": 4,
 "nbformat_minor": 5
}
